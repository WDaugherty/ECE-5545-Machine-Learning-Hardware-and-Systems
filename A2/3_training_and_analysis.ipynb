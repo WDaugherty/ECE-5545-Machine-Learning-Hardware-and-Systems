{
  "cells": [
    {
      "cell_type": "markdown",
      "metadata": {
        "id": "view-in-github",
        "colab_type": "text"
      },
      "source": [
        "<a href=\"https://colab.research.google.com/github/ML-HW-SYS/a2-WDaugherty/blob/main/3_training_and_analysis.ipynb\" target=\"_parent\"><img src=\"https://colab.research.google.com/assets/colab-badge.svg\" alt=\"Open In Colab\"/></a>"
      ]
    },
    {
      "cell_type": "markdown",
      "metadata": {
        "id": "z2nGDz0JliKU"
      },
      "source": [
        "# **3. Training and Testing**\n",
        "Please start early! Section 3.6 Training may take one to two hours to run. "
      ]
    },
    {
      "cell_type": "markdown",
      "metadata": {
        "id": "c5U9gkiTnC4s"
      },
      "source": [
        "## 3.0 Setup GDrive and Git"
      ]
    },
    {
      "cell_type": "code",
      "source": [
        "# Mount google drive\n",
        "from google.colab import drive\n",
        "drive.mount('/content/gdrive') "
      ],
      "metadata": {
        "id": "WwcJax1zU04M",
        "colab": {
          "base_uri": "https://localhost:8080/"
        },
        "outputId": "a460fb02-f8ba-4847-abb4-022e93f570d6"
      },
      "execution_count": 1,
      "outputs": [
        {
          "output_type": "stream",
          "name": "stdout",
          "text": [
            "Mounted at /content/gdrive\n"
          ]
        }
      ]
    },
    {
      "cell_type": "code",
      "source": [
        "# Make sure your token is stored in a txt file at the location below.\n",
        "# This way there is no risk that you will push it to your repo\n",
        "# Never share your token with anyone, it is basically your github password!\n",
        "with open('/content/gdrive/MyDrive/ece5545/token.txt') as f:\n",
        "    token = f.readline().strip()\n",
        "# Use another file to store your github username    \n",
        "with open('/content/gdrive/MyDrive/ece5545/git_username.txt') as f:\n",
        "    handle = f.readline().strip()"
      ],
      "metadata": {
        "id": "NQklidVMU0-t"
      },
      "execution_count": 2,
      "outputs": []
    },
    {
      "cell_type": "code",
      "source": [
        "# Clone your github repo\n",
        "YOUR_TOKEN = token\n",
        "YOUR_HANDLE = handle\n",
        "BRANCH = \"main\"\n",
        "\n",
        "%mkdir /content/gdrive/MyDrive/ece5545\n",
        "%cd /content/gdrive/MyDrive/ece5545\n",
        "!git clone https://{YOUR_TOKEN}@github.com/ML-HW-SYS/a2-{YOUR_HANDLE}.git\n",
        "%cd /content/gdrive/MyDrive/ece5545/a2-{YOUR_HANDLE}\n",
        "!git checkout {BRANCH}\n",
        "!git pull\n",
        "%cd /content/gdrive/MyDrive/ece5545\n",
        "\n",
        "PROJECT_ROOT = f\"/content/gdrive/MyDrive/ece5545/a2-{YOUR_HANDLE}\""
      ],
      "metadata": {
        "id": "7bdUCGFEU1Es",
        "colab": {
          "base_uri": "https://localhost:8080/"
        },
        "outputId": "3433503b-2595-4a6d-bbd9-65972c2af392"
      },
      "execution_count": 3,
      "outputs": [
        {
          "output_type": "stream",
          "name": "stdout",
          "text": [
            "mkdir: cannot create directory ‘/content/gdrive/MyDrive/ece5545’: File exists\n",
            "/content/gdrive/MyDrive/ece5545\n",
            "fatal: destination path 'a2-WDaugherty' already exists and is not an empty directory.\n",
            "/content/gdrive/MyDrive/ece5545/a2-WDaugherty\n",
            "Already on 'main'\n",
            "Your branch is up to date with 'origin/main'.\n",
            "Already up to date.\n",
            "/content/gdrive/MyDrive/ece5545\n"
          ]
        }
      ]
    },
    {
      "cell_type": "code",
      "source": [
        "# This extension reloads all imports before running each cell\n",
        "%load_ext autoreload\n",
        "%autoreload 2"
      ],
      "metadata": {
        "id": "xHXYdHkzU1MX"
      },
      "execution_count": 4,
      "outputs": []
    },
    {
      "cell_type": "markdown",
      "metadata": {
        "id": "t6zMfxIflRLB"
      },
      "source": [
        "### GPU\n",
        "\n",
        "Ensure you are running the GPU runtime type:\n",
        "1.   Click \"Runtime\" on top banner\n",
        "2.   Select \"Change runtime type\"\n",
        "3.   Under \"Hardware accelarator\" select \"GPU\" and save\n",
        "\n"
      ]
    },
    {
      "cell_type": "markdown",
      "metadata": {
        "id": "be4rOan-nHrF"
      },
      "source": [
        "### Import code dependencies"
      ]
    },
    {
      "cell_type": "code",
      "execution_count": 5,
      "metadata": {
        "id": "aDDr3IrkliKY",
        "colab": {
          "base_uri": "https://localhost:8080/"
        },
        "outputId": "e57acf26-19c0-46c4-b175-a821ddbbeb53"
      },
      "outputs": [
        {
          "output_type": "stream",
          "name": "stdout",
          "text": [
            "Model folders are created, \n",
            "PyTorch models will be saved in /content/gdrive/MyDrive/ece5545/models/torch_models, \n",
            "ONNX models will be saved in /content/gdrive/MyDrive/ece5545/models/onnx_models, \n",
            "TensorFlow Saved Models will be saved in /content/gdrive/MyDrive/ece5545/models/tf_models, \n",
            "TensorFlow Lite models will be saved in /content/gdrive/MyDrive/ece5545/models/tflite_models, \n",
            "TensorFlow Lite Micro models will be saved in /content/gdrive/MyDrive/ece5545/models/micro_models.\n"
          ]
        }
      ],
      "source": [
        "import os\n",
        "import sys\n",
        "\n",
        "# Adding assignment 2 to the system path\n",
        "# -- make sure this matches your git directory\n",
        "sys.path.insert(0, PROJECT_ROOT)\n",
        "\n",
        "# Import libraries \n",
        "import torch\n",
        "import torch.nn as nn\n",
        "import torch.nn.functional as F\n",
        "import torch.optim as optim\n",
        "\n",
        "import matplotlib.pyplot as plt\n",
        "from tqdm.notebook import tqdm\n",
        "import numpy as np\n",
        "import copy\n",
        "\n",
        "# Import constants to use constants defined for training\n",
        "from src.constants import *\n",
        "# Import data_proc to use data processing functions\n",
        "import src.data_proc as data_proc\n",
        "\n",
        "random_seed = 0\n",
        "torch.manual_seed(random_seed)\n",
        "torch.cuda.manual_seed(random_seed)"
      ]
    },
    {
      "cell_type": "markdown",
      "metadata": {
        "id": "U7qaF1IEliKa"
      },
      "source": [
        "## 3.1 Download and Preprocess Data"
      ]
    },
    {
      "cell_type": "markdown",
      "metadata": {
        "id": "FLwsdGt_liKa"
      },
      "source": [
        "### Create audio processor\n",
        "This step is similar to what was done in part 2, so the files should already be downloaded in your Google Drive."
      ]
    },
    {
      "cell_type": "code",
      "execution_count": 11,
      "metadata": {
        "id": "Xdc42fZiliKa"
      },
      "outputs": [],
      "source": [
        "# Create audio_processor\n",
        "audio_processor = data_proc.AudioProcessor()"
      ]
    },
    {
      "cell_type": "markdown",
      "metadata": {
        "id": "e53768H0liKf"
      },
      "source": [
        "### Select device: cuda or cpu"
      ]
    },
    {
      "cell_type": "code",
      "execution_count": 12,
      "metadata": {
        "id": "UrpzLHRhliKf",
        "colab": {
          "base_uri": "https://localhost:8080/"
        },
        "outputId": "be233e85-9d98-41e2-d81f-0e9010c4d5b1"
      },
      "outputs": [
        {
          "output_type": "stream",
          "name": "stdout",
          "text": [
            "Using cpu to run the training scrpit.\n"
          ]
        }
      ],
      "source": [
        "# Define device\n",
        "device = torch.device(\"cuda\" if torch.cuda.is_available() else \"cpu\")\n",
        "print(f'Using {device} to run the training scrpit.')"
      ]
    },
    {
      "cell_type": "markdown",
      "metadata": {
        "id": "ViruC2uOnY3u"
      },
      "source": [
        "## 3.2 Data Loader"
      ]
    },
    {
      "cell_type": "code",
      "execution_count": 13,
      "metadata": {
        "id": "3qYQMncTliKb",
        "colab": {
          "base_uri": "https://localhost:8080/"
        },
        "outputId": "f0e5dfd4-ca13-42a2-9338-c3e407db3f70"
      },
      "outputs": [
        {
          "output_type": "stream",
          "name": "stdout",
          "text": [
            "Train size: 10556 Val size: 1333 Test size: 1368\n"
          ]
        }
      ],
      "source": [
        "# Define train, test, and validation set\n",
        "train_set = audio_processor.data_index['training']\n",
        "test_set = audio_processor.data_index['testing']\n",
        "valid_set = audio_processor.data_index['validation']\n",
        "\n",
        "# Define data loaders\n",
        "from src.loaders import make_data_loaders\n",
        "data_loaders = make_data_loaders(audio_processor, device)\n",
        "train_loader = data_loaders['training']\n",
        "test_loader = data_loaders['testing']\n",
        "valid_loader = data_loaders['validation']"
      ]
    },
    {
      "cell_type": "code",
      "source": [
        "from collections import Counter\n",
        "import matplotlib.pyplot as plt\n",
        "from matplotlib import cm\n",
        "from matplotlib.colors import Normalize\n",
        "\n",
        "LABEL_NAMES = {'_background_noise_': 'Background Noise',\n",
        "               '_silence_': 'Silence',\n",
        "               'yes': 'Yes',\n",
        "               'no': 'No',\n",
        "               'up': 'Up',\n",
        "               'down': 'Down',\n",
        "               'left': 'Left',\n",
        "               'right': 'Right',\n",
        "               'on': 'On',\n",
        "               'off': 'Off',\n",
        "               'stop': 'Stop',\n",
        "               'go': 'Go'}\n",
        "\n",
        "def parse_data(data):\n",
        "    labels = []\n",
        "    for d in data:\n",
        "        labels.append(d['label'])\n",
        "    return labels\n",
        "\n",
        "def plot_histogram(train_set, valid_set, test_set):\n",
        "    all_labels = parse_data(train_set) + parse_data(valid_set) + parse_data(test_set)\n",
        "    label_counts = Counter(all_labels)\n",
        "    colors = [cm.rainbow(i/12) for i in range(12)]\n",
        "    sorted_counts = sorted(label_counts.items(), key=lambda x: x[1], reverse=True)\n",
        "    labels, counts = zip(*sorted_counts)\n",
        "    labels = [LABEL_NAMES.get(l, l) for l in labels]\n",
        "    \n",
        "    # Create a colormap based on count\n",
        "    norm = Normalize(vmin=0, vmax=max(counts))\n",
        "    cmap = cm.ScalarMappable(norm=norm, cmap=cm.rainbow)\n",
        "    \n",
        "    # Plot the bars with colors based on count\n",
        "    fig, ax = plt.subplots()\n",
        "    bars = ax.bar(labels, counts, color=colors)\n",
        "    plt.xticks(rotation=90, ha='right')\n",
        "    plt.title(\"Label Histogram\")\n",
        "    plt.xlabel(\"Label\")\n",
        "    plt.ylabel(\"Count\")\n",
        "    plt.show()\n",
        "\n",
        "plot_histogram(train_set, valid_set, test_set)\n"
      ],
      "metadata": {
        "colab": {
          "base_uri": "https://localhost:8080/",
          "height": 334
        },
        "id": "9l18PB_Wn4vk",
        "outputId": "bf85378e-eb69-4b09-ae68-9daea7560d04"
      },
      "execution_count": 28,
      "outputs": [
        {
          "output_type": "display_data",
          "data": {
            "text/plain": [
              "<Figure size 432x288 with 1 Axes>"
            ],
            "image/png": "[encoded data removed]"
          },
          "metadata": {
            "needs_background": "light"
          }
        }
      ]
    },
    {
      "cell_type": "code",
      "source": [
        "from collections import Counter\n",
        "import matplotlib.pyplot as plt\n",
        "from matplotlib import cm\n",
        "\n",
        "\n",
        "def plot_histogram_2(train_set, valid_set, test_set):\n",
        "    datasets = {'Train Set': train_set, 'Validation Set': valid_set, 'Test Set': test_set}\n",
        "    fig, axs = plt.subplots(1, 3, figsize=(15, 5), sharey=True)\n",
        "    colors = [cm.rainbow(i/12) for i in range(12)]\n",
        "    for i, (dataset_name, dataset) in enumerate(datasets.items()):\n",
        "        all_labels = parse_data(dataset)\n",
        "        label_counts = Counter(all_labels)\n",
        "        sorted_counts = sorted(label_counts.items(), key=lambda x: x[1], reverse=True)\n",
        "        labels, counts = zip(*sorted_counts)\n",
        "        labels = [LABEL_NAMES.get(l, l) for l in labels]\n",
        "        axs[i].bar(labels, counts, color=colors)\n",
        "        axs[i].set_xticklabels(labels, rotation=90, ha='right', fontsize=8)\n",
        "        axs[i].set_title(dataset_name)\n",
        "        axs[i].set_xlabel(\"Label\")\n",
        "        axs[i].set_ylabel(\"Count\")\n",
        "    plt.suptitle(\"Label Histogram Comparison\")\n",
        "    plt.show()\n",
        "\n",
        "\n",
        "\n",
        "\n",
        "plot_histogram_2(train_set, valid_set, test_set)"
      ],
      "metadata": {
        "colab": {
          "base_uri": "https://localhost:8080/",
          "height": 503
        },
        "id": "fldi4IDXpIDn",
        "outputId": "a8327b33-0825-45a4-9db4-911772ca9e54"
      },
      "execution_count": 24,
      "outputs": [
        {
          "output_type": "stream",
          "name": "stderr",
          "text": [
            "<ipython-input-24-3bc945c16ec3>:17: UserWarning: FixedFormatter should only be used together with FixedLocator\n",
            "  axs[i].set_xticklabels(labels, rotation=90, ha='right', fontsize=8)\n",
            "<ipython-input-24-3bc945c16ec3>:17: UserWarning: FixedFormatter should only be used together with FixedLocator\n",
            "  axs[i].set_xticklabels(labels, rotation=90, ha='right', fontsize=8)\n",
            "<ipython-input-24-3bc945c16ec3>:17: UserWarning: FixedFormatter should only be used together with FixedLocator\n",
            "  axs[i].set_xticklabels(labels, rotation=90, ha='right', fontsize=8)\n"
          ]
        },
        {
          "output_type": "display_data",
          "data": {
            "text/plain": [
              "<Figure size 1080x360 with 3 Axes>"
            ],
            "image/png": "[encoded data removed]"
          },
          "metadata": {
            "needs_background": "light"
          }
        }
      ]
    },
    {
      "cell_type": "code",
      "source": [
        "\n",
        "from collections import Counter\n",
        "import matplotlib.pyplot as plt\n",
        "from matplotlib import cm\n",
        "\n",
        "LABEL_NAMES = {'_background_noise_': 'Background Noise',\n",
        "               '_silence_': 'Silence',\n",
        "               'yes': 'Yes',\n",
        "               'no': 'No',\n",
        "               'up': 'Up',\n",
        "               'down': 'Down',\n",
        "               'left': 'Left',\n",
        "               'right': 'Right',\n",
        "               'on': 'On',\n",
        "               'off': 'Off',\n",
        "               'stop': 'Stop',\n",
        "               'go': 'Go'}\n",
        "\n",
        "def parse_data(data):\n",
        "    labels = []\n",
        "    for d in data:\n",
        "        labels.append(d['label'])\n",
        "    return labels\n",
        "\n",
        "def plot_histogram(train_set, valid_set, test_set):\n",
        "    datasets = {'Train Set': train_set, 'Validation Set': valid_set, 'Test Set': test_set}\n",
        "    colors = [cm.rainbow(i/12) for i in range(12)]\n",
        "    for i, (dataset_name, dataset) in enumerate(datasets.items()):\n",
        "        all_labels = parse_data(dataset)\n",
        "        label_counts = Counter(all_labels)\n",
        "        sorted_counts = sorted(label_counts.items(), key=lambda x: x[1], reverse=True)\n",
        "        labels, counts = zip(*sorted_counts)\n",
        "        labels = [LABEL_NAMES.get(l, l) for l in labels]\n",
        "        fig, ax = plt.subplots(figsize=(8, 6))\n",
        "        ax.bar(labels, counts, color=colors)\n",
        "        ax.set_xticklabels(labels, rotation=45, ha='right', fontsize=8)\n",
        "        ax.set_title(dataset_name)\n",
        "        ax.set_xlabel(\"Label\")\n",
        "        ax.set_ylabel(\"Count\")\n",
        "        plt.show()\n",
        "\n",
        "plot_histogram(train_set, valid_set, test_set)"
      ],
      "metadata": {
        "colab": {
          "base_uri": "https://localhost:8080/",
          "height": 1000
        },
        "id": "ilvL-4pKqBzs",
        "outputId": "dbe9f1a9-9a18-43a7-c336-853afa2759b8"
      },
      "execution_count": 25,
      "outputs": [
        {
          "output_type": "stream",
          "name": "stderr",
          "text": [
            "<ipython-input-25-c252ae78e667>:35: UserWarning: FixedFormatter should only be used together with FixedLocator\n",
            "  ax.set_xticklabels(labels, rotation=45, ha='right', fontsize=8)\n"
          ]
        },
        {
          "output_type": "display_data",
          "data": {
            "text/plain": [
              "<Figure size 576x432 with 1 Axes>"
            ],
            "image/png": "[encoded data removed]"
          },
          "metadata": {
            "needs_background": "light"
          }
        },
        {
          "output_type": "stream",
          "name": "stderr",
          "text": [
            "<ipython-input-25-c252ae78e667>:35: UserWarning: FixedFormatter should only be used together with FixedLocator\n",
            "  ax.set_xticklabels(labels, rotation=45, ha='right', fontsize=8)\n"
          ]
        },
        {
          "output_type": "display_data",
          "data": {
            "text/plain": [
              "<Figure size 576x432 with 1 Axes>"
            ],
            "image/png": "[encoded data removed]"
          },
          "metadata": {
            "needs_background": "light"
          }
        },
        {
          "output_type": "stream",
          "name": "stderr",
          "text": [
            "<ipython-input-25-c252ae78e667>:35: UserWarning: FixedFormatter should only be used together with FixedLocator\n",
            "  ax.set_xticklabels(labels, rotation=45, ha='right', fontsize=8)\n"
          ]
        },
        {
          "output_type": "display_data",
          "data": {
            "text/plain": [
              "<Figure size 576x432 with 1 Axes>"
            ],
            "image/png": "[encoded data removed]"
          },
          "metadata": {
            "needs_background": "light"
          }
        }
      ]
    },
    {
      "cell_type": "code",
      "source": [
        "import re\n",
        "import matplotlib.pyplot as plt\n",
        "\n",
        "# extract numerical values from string using regular expressions\n",
        "times = re.findall(r'\\d+', 'preprocessing runtime 21ms model runtime 88ms posprocessing runtime 0ms')\n",
        "\n",
        "# convert values to integers\n",
        "times = [int(t) for t in times]\n",
        "\n",
        "# create labels for the pie chart\n",
        "labels = ['Preprocessing', 'Model', 'Postprocessing']\n",
        "\n",
        "# create the pie chart\n",
        "plt.pie(times, labels=labels, autopct='%1.1f%%')\n",
        "plt.title('Runtimes')\n",
        "plt.show()"
      ],
      "metadata": {
        "colab": {
          "base_uri": "https://localhost:8080/",
          "height": 264
        },
        "id": "NUiD8sYFRTgF",
        "outputId": "da8d3824-0f5f-49c9-caad-16a118256428"
      },
      "execution_count": 6,
      "outputs": [
        {
          "output_type": "display_data",
          "data": {
            "text/plain": [
              "<Figure size 432x288 with 1 Axes>"
            ],
            "image/png": "[encoded data removed]"
          },
          "metadata": {}
        }
      ]
    },
    {
      "cell_type": "code",
      "source": [
        "\n",
        "import re\n",
        "import matplotlib.pyplot as plt\n",
        "\n",
        "# extract numerical values from string using regular expressions\n",
        "times = re.findall(r'\\d+', 'preprocessing runtime 21ms model runtime 88ms posprocessing runtime 0ms')\n",
        "\n",
        "# convert values to integers\n",
        "times = [int(t) for t in times]\n",
        "\n",
        "# create labels for the bar chart\n",
        "labels = ['Preprocessing', 'Model', 'Postprocessing']\n",
        "\n",
        "# create the bar chart\n",
        "plt.bar(labels, times)\n",
        "plt.title('Runtimes')\n",
        "plt.xlabel('Process')\n",
        "plt.ylabel('Time (ms)')\n",
        "plt.show()"
      ],
      "metadata": {
        "colab": {
          "base_uri": "https://localhost:8080/",
          "height": 295
        },
        "id": "LRNRSciFk4u8",
        "outputId": "fc4715b4-a318-4766-d06d-ad1201fcb5b5"
      },
      "execution_count": 7,
      "outputs": [
        {
          "output_type": "display_data",
          "data": {
            "text/plain": [
              "<Figure size 432x288 with 1 Axes>"
            ],
            "image/png": "[encoded data removed]"
          },
          "metadata": {
            "needs_background": "light"
          }
        }
      ]
    },
    {
      "cell_type": "markdown",
      "metadata": {
        "id": "cBSyrbs6liKg"
      },
      "source": [
        "## 3.3 Define the Model"
      ]
    },
    {
      "cell_type": "code",
      "execution_count": null,
      "metadata": {
        "id": "OERV-lIDliKi",
        "colab": {
          "base_uri": "https://localhost:8080/"
        },
        "outputId": "3d95c8a4-29c6-40b3-9d49-fa95f57a5eda"
      },
      "outputs": [
        {
          "output_type": "execute_result",
          "data": {
            "text/plain": [
              "TinyConv(\n",
              "  (conv_reshape): Reshape(output_shape=(-1, 1, 49, 40))\n",
              "  (conv): Conv2d(1, 8, kernel_size=(10, 8), stride=(2, 2), padding=(5, 3))\n",
              "  (relu): ReLU()\n",
              "  (dropout): Dropout(p=0.5, inplace=False)\n",
              "  (fc_reshape): Reshape(output_shape=(-1, 4000))\n",
              "  (fc): Linear(in_features=4000, out_features=4, bias=True)\n",
              "  (softmax): Softmax(dim=1)\n",
              ")"
            ]
          },
          "metadata": {},
          "execution_count": 9
        }
      ],
      "source": [
        "from src.networks import TinyConv\n",
        "# Create a full precision (float32) TinyConv model\n",
        "model_fp32 = TinyConv(\n",
        "    model_settings=audio_processor.model_settings,\n",
        "    n_input=1,\n",
        "    n_output=audio_processor.num_labels\n",
        ")\n",
        "model_fp32"
      ]
    },
    {
      "cell_type": "markdown",
      "metadata": {
        "id": "0PeiCwmdliKk"
      },
      "source": [
        "## 3.4 Training"
      ]
    },
    {
      "cell_type": "code",
      "execution_count": null,
      "metadata": {
        "id": "pTDNIHCqliKj"
      },
      "outputs": [],
      "source": [
        "from src.train_val_test_utils import train, test"
      ]
    },
    {
      "cell_type": "markdown",
      "metadata": {
        "id": "Fnk6TOA8rv7C"
      },
      "source": [
        "### Adjust parameters\n",
        "*   You can change *n_epoch* to use a different number training steps/epochs"
      ]
    },
    {
      "cell_type": "code",
      "execution_count": null,
      "metadata": {
        "id": "4twj3n1tliKk",
        "colab": {
          "base_uri": "https://localhost:8080/"
        },
        "outputId": "4f40f1c3-087f-4bf2-a176-8a2e38f05eee"
      },
      "outputs": [
        {
          "output_type": "stream",
          "name": "stdout",
          "text": [
            "# batches: 106 \n",
            "# epochs: 50 \n",
            "# total training steps: 5300\n"
          ]
        }
      ],
      "source": [
        "num_batches = len(train_loader)\n",
        "n_epoch = 50\n",
        "print(f'# batches: {num_batches} \\n# epochs: {n_epoch} \\n# total training steps: {num_batches * n_epoch}')"
      ]
    },
    {
      "cell_type": "markdown",
      "metadata": {
        "id": "Ps_AJaYKliKk"
      },
      "source": [
        "### Create optimizer for training\n",
        " Explore more at: \n",
        "[TORCH. OPTIM](https://pytorch.org/docs/stable/optim.html?highlight=torch%20optim%20lr_scheduler)"
      ]
    },
    {
      "cell_type": "code",
      "execution_count": null,
      "metadata": {
        "id": "VqVXUQzYliKk",
        "colab": {
          "base_uri": "https://localhost:8080/"
        },
        "outputId": "8b21ea7c-6e68-4b14-ae4b-11594b5360a6"
      },
      "outputs": [
        {
          "output_type": "stream",
          "name": "stdout",
          "text": [
            "{'state': {}, 'param_groups': [{'lr': 0.001, 'betas': (0.9, 0.999), 'eps': 1e-08, 'weight_decay': 0.0001, 'amsgrad': False, 'maximize': False, 'foreach': None, 'capturable': False, 'differentiable': False, 'fused': False, 'params': [0, 1, 2, 3]}]}\n"
          ]
        }
      ],
      "source": [
        "from src.train_val_test_utils import create_optimizer\n",
        "\n",
        "# Create optimizer\n",
        "optimizer_fp32 = create_optimizer(model=model_fp32, learning_rate=0.001)\n",
        "print(optimizer_fp32.state_dict())"
      ]
    },
    {
      "cell_type": "markdown",
      "metadata": {
        "id": "EX-iWv6Ash3R"
      },
      "source": [
        "### Train the model\n",
        "TensorBoard will allow you to visualize your results. The second code block, the training, will take a while to run."
      ]
    },
    {
      "cell_type": "code",
      "execution_count": null,
      "metadata": {
        "id": "DGag-bchliKl",
        "colab": {
          "base_uri": "https://localhost:8080/",
          "height": 1000,
          "referenced_widgets": [
            "fefb8c54126f48109141e3d4d721211f",
            "39c7ea84df9b430285e23a4575b64e56",
            "c9024b47117a4c56bfb073ca142cadb2",
            "8b9c5287174e400e967601fae18a98d3",
            "d6d9bd80c23541ff91f0b83db59b6638",
            "95ef3c292dee416bb2702ede59dea6ff",
            "aa002b50f0a14e51a3ae89e1d469176a",
            "bde51dd2d5044eadbd97250faad0a621",
            "7a2f762958e94d7b951d889d7f319e57",
            "9395b1eba32840feb46d26722b4e1682",
            "5c739d2818214b199254f4696fd095f0"
          ]
        },
        "outputId": "0358989d-0d24-4ac2-de6d-1ac52365c82d"
      },
      "outputs": [
        {
          "output_type": "display_data",
          "data": {
            "text/plain": [
              "  0%|          | 0/50 [00:00<?, ?it/s]"
            ],
            "application/vnd.jupyter.widget-view+json": {
              "version_major": 2,
              "version_minor": 0,
              "model_id": "fefb8c54126f48109141e3d4d721211f"
            }
          },
          "metadata": {}
        },
        {
          "output_type": "stream",
          "name": "stdout",
          "text": [
            "Val Acc Epoch 1 = 83.8%, Train loss = 1.133\n",
            "\n",
            "Valid epoch: 1\tAccuracy: 1092/1333 (81.92%)\n",
            "\n",
            "Val Acc Epoch 2 = 85.67%, Train loss = 0.561\n",
            "\n",
            "Valid epoch: 2\tAccuracy: 1141/1333 (85.60%)\n",
            "\n",
            "Val Acc Epoch 3 = 87.55%, Train loss = 0.489\n",
            "\n",
            "Valid epoch: 3\tAccuracy: 1160/1333 (87.02%)\n",
            "\n",
            "Val Acc Epoch 4 = 87.92%, Train loss = 0.46\n",
            "\n",
            "Valid epoch: 4\tAccuracy: 1165/1333 (87.40%)\n",
            "\n",
            "Val Acc Epoch 5 = 88.22%, Train loss = 0.445\n",
            "\n",
            "Valid epoch: 5\tAccuracy: 1181/1333 (88.60%)\n",
            "\n",
            "Val Acc Epoch 6 = 88.52%, Train loss = 0.418\n",
            "\n",
            "Valid epoch: 6\tAccuracy: 1170/1333 (87.77%)\n",
            "\n",
            "Val Acc Epoch 7 = 86.95%, Train loss = 0.422\n",
            "\n",
            "Valid epoch: 7\tAccuracy: 1182/1333 (88.67%)\n",
            "\n",
            "Val Acc Epoch 8 = 88.3%, Train loss = 0.416\n",
            "\n",
            "Valid epoch: 8\tAccuracy: 1175/1333 (88.15%)\n",
            "\n",
            "Val Acc Epoch 9 = 89.35%, Train loss = 0.409\n",
            "\n",
            "Valid epoch: 9\tAccuracy: 1197/1333 (89.80%)\n",
            "\n",
            "Val Acc Epoch 10 = 87.92%, Train loss = 0.395\n",
            "\n",
            "Valid epoch: 10\tAccuracy: 1180/1333 (88.52%)\n",
            "\n",
            "Val Acc Epoch 11 = 89.35%, Train loss = 0.403\n",
            "\n",
            "Valid epoch: 11\tAccuracy: 1182/1333 (88.67%)\n",
            "\n",
            "Val Acc Epoch 12 = 89.27%, Train loss = 0.386\n",
            "\n",
            "Valid epoch: 12\tAccuracy: 1192/1333 (89.42%)\n",
            "\n",
            "Val Acc Epoch 13 = 89.27%, Train loss = 0.379\n",
            "\n",
            "Valid epoch: 13\tAccuracy: 1183/1333 (88.75%)\n",
            "\n",
            "Val Acc Epoch 14 = 89.2%, Train loss = 0.388\n",
            "\n",
            "Valid epoch: 14\tAccuracy: 1198/1333 (89.87%)\n",
            "\n",
            "Val Acc Epoch 15 = 89.72%, Train loss = 0.378\n",
            "\n",
            "Valid epoch: 15\tAccuracy: 1199/1333 (89.95%)\n",
            "\n",
            "Val Acc Epoch 16 = 88.37%, Train loss = 0.38\n",
            "\n",
            "Valid epoch: 16\tAccuracy: 1201/1333 (90.10%)\n",
            "\n",
            "Val Acc Epoch 17 = 88.82%, Train loss = 0.367\n",
            "\n",
            "Valid epoch: 17\tAccuracy: 1185/1333 (88.90%)\n",
            "\n",
            "Val Acc Epoch 18 = 88.75%, Train loss = 0.373\n",
            "\n",
            "Valid epoch: 18\tAccuracy: 1198/1333 (89.87%)\n",
            "\n",
            "Val Acc Epoch 19 = 88.3%, Train loss = 0.37\n",
            "\n",
            "Valid epoch: 19\tAccuracy: 1198/1333 (89.87%)\n",
            "\n",
            "Val Acc Epoch 20 = 88.3%, Train loss = 0.368\n",
            "\n",
            "Valid epoch: 20\tAccuracy: 1183/1333 (88.75%)\n",
            "\n",
            "Val Acc Epoch 21 = 89.42%, Train loss = 0.368\n",
            "\n",
            "Valid epoch: 21\tAccuracy: 1201/1333 (90.10%)\n",
            "\n",
            "Val Acc Epoch 22 = 88.37%, Train loss = 0.363\n",
            "\n",
            "Valid epoch: 22\tAccuracy: 1189/1333 (89.20%)\n",
            "\n",
            "Val Acc Epoch 23 = 89.65%, Train loss = 0.364\n",
            "\n",
            "Valid epoch: 23\tAccuracy: 1188/1333 (89.12%)\n",
            "\n",
            "Val Acc Epoch 24 = 89.87%, Train loss = 0.357\n",
            "\n",
            "Valid epoch: 24\tAccuracy: 1203/1333 (90.25%)\n",
            "\n",
            "Val Acc Epoch 25 = 90.47%, Train loss = 0.361\n",
            "\n",
            "Valid epoch: 25\tAccuracy: 1190/1333 (89.27%)\n",
            "\n",
            "Val Acc Epoch 26 = 89.87%, Train loss = 0.361\n",
            "\n",
            "Valid epoch: 26\tAccuracy: 1205/1333 (90.40%)\n",
            "\n",
            "Val Acc Epoch 27 = 89.8%, Train loss = 0.354\n",
            "\n",
            "Valid epoch: 27\tAccuracy: 1203/1333 (90.25%)\n",
            "\n",
            "Val Acc Epoch 28 = 90.25%, Train loss = 0.35\n",
            "\n",
            "Valid epoch: 28\tAccuracy: 1201/1333 (90.10%)\n",
            "\n",
            "Val Acc Epoch 29 = 89.35%, Train loss = 0.36\n",
            "\n",
            "Valid epoch: 29\tAccuracy: 1194/1333 (89.57%)\n",
            "\n",
            "Val Acc Epoch 30 = 89.12%, Train loss = 0.36\n",
            "\n",
            "Valid epoch: 30\tAccuracy: 1189/1333 (89.20%)\n",
            "\n",
            "Val Acc Epoch 31 = 89.05%, Train loss = 0.367\n",
            "\n",
            "Valid epoch: 31\tAccuracy: 1196/1333 (89.72%)\n",
            "\n",
            "Val Acc Epoch 32 = 89.72%, Train loss = 0.353\n",
            "\n",
            "Valid epoch: 32\tAccuracy: 1205/1333 (90.40%)\n",
            "\n",
            "Val Acc Epoch 33 = 90.25%, Train loss = 0.352\n",
            "\n",
            "Valid epoch: 33\tAccuracy: 1198/1333 (89.87%)\n",
            "\n",
            "Val Acc Epoch 34 = 90.4%, Train loss = 0.339\n",
            "\n",
            "Valid epoch: 34\tAccuracy: 1196/1333 (89.72%)\n",
            "\n",
            "Val Acc Epoch 35 = 89.65%, Train loss = 0.342\n",
            "\n",
            "Valid epoch: 35\tAccuracy: 1200/1333 (90.02%)\n",
            "\n",
            "Val Acc Epoch 36 = 90.17%, Train loss = 0.341\n",
            "\n",
            "Valid epoch: 36\tAccuracy: 1209/1333 (90.70%)\n",
            "\n",
            "Val Acc Epoch 37 = 90.77%, Train loss = 0.352\n",
            "\n",
            "Valid epoch: 37\tAccuracy: 1194/1333 (89.57%)\n",
            "\n",
            "Val Acc Epoch 38 = 90.32%, Train loss = 0.336\n",
            "\n",
            "Valid epoch: 38\tAccuracy: 1203/1333 (90.25%)\n",
            "\n",
            "Val Acc Epoch 39 = 90.55%, Train loss = 0.353\n",
            "\n",
            "Valid epoch: 39\tAccuracy: 1205/1333 (90.40%)\n",
            "\n",
            "Val Acc Epoch 40 = 90.92%, Train loss = 0.333\n",
            "\n",
            "Valid epoch: 40\tAccuracy: 1198/1333 (89.87%)\n",
            "\n",
            "Val Acc Epoch 41 = 91.0%, Train loss = 0.32\n",
            "\n",
            "Valid epoch: 41\tAccuracy: 1209/1333 (90.70%)\n",
            "\n",
            "Val Acc Epoch 42 = 89.87%, Train loss = 0.346\n",
            "\n",
            "Valid epoch: 42\tAccuracy: 1194/1333 (89.57%)\n",
            "\n",
            "Val Acc Epoch 43 = 90.85%, Train loss = 0.343\n",
            "\n",
            "Valid epoch: 43\tAccuracy: 1204/1333 (90.32%)\n",
            "\n",
            "Val Acc Epoch 44 = 90.02%, Train loss = 0.321\n",
            "\n",
            "Valid epoch: 44\tAccuracy: 1204/1333 (90.32%)\n",
            "\n",
            "Val Acc Epoch 45 = 90.85%, Train loss = 0.33\n",
            "\n",
            "Valid epoch: 45\tAccuracy: 1203/1333 (90.25%)\n",
            "\n",
            "Val Acc Epoch 46 = 91.3%, Train loss = 0.331\n",
            "\n",
            "Valid epoch: 46\tAccuracy: 1207/1333 (90.55%)\n",
            "\n",
            "Val Acc Epoch 47 = 89.87%, Train loss = 0.342\n",
            "\n",
            "Valid epoch: 47\tAccuracy: 1207/1333 (90.55%)\n",
            "\n",
            "Val Acc Epoch 48 = 89.87%, Train loss = 0.333\n",
            "\n",
            "Valid epoch: 48\tAccuracy: 1195/1333 (89.65%)\n",
            "\n",
            "Val Acc Epoch 49 = 90.7%, Train loss = 0.327\n",
            "\n",
            "Valid epoch: 49\tAccuracy: 1223/1333 (91.75%)\n",
            "\n",
            "Val Acc Epoch 50 = 89.8%, Train loss = 0.334\n",
            "\n",
            "Valid epoch: 50\tAccuracy: 1217/1333 (91.30%)\n",
            "\n",
            "Test Acc = 89.84%\n"
          ]
        }
      ],
      "source": [
        "bar_update = 1 / (len(train_loader) + len(test_loader) + len(valid_loader))\n",
        "\n",
        "def run_training(model, data_loaders, n_epoch, optimizer,\n",
        "                 save_interval=1, resume=True, checkpoint_path=None):\n",
        "    test_loader = data_loaders['testing']\n",
        "    with tqdm(total=n_epoch) as pbar:\n",
        "      \n",
        "        completed_epoch = 1\n",
        "        if resume:\n",
        "            try:\n",
        "                #continue training with previous model if one exists\n",
        "                checkpoint = torch.load(checkpoint_path)\n",
        "                model.load_state_dict(checkpoint['model_state_dict'])\n",
        "                optimizer.load_state_dict(checkpoint['optimizer_state_dict'])\n",
        "                completed_epoch = checkpoint[\"epoch\"] + 1\n",
        "                model.eval()\n",
        "                pbar.update(completed_epoch)\n",
        "            except:\n",
        "                pass\n",
        "\n",
        "        last_valacc = 0\n",
        "        for epoch in range(completed_epoch, n_epoch + 1):\n",
        "            train_iters = len(data_loaders['training'])\n",
        "            \n",
        "            train(model, data_loaders, optimizer, \n",
        "                      epoch, device)\n",
        "            \n",
        "            valacc = test(valid_loader, model, device, epoch=epoch, \n",
        "                          loader_type='Valid', verbose=True)\n",
        "            #checkpoint the model every epoch\n",
        "            if epoch % save_interval == 0 and valacc > last_valacc:\n",
        "                last_valacc = valacc\n",
        "                torch.save({\n",
        "                    'epoch': epoch,\n",
        "                    'model_state_dict': model.state_dict(),\n",
        "                    'optimizer_state_dict': optimizer.state_dict()\n",
        "                }, checkpoint_path)\n",
        "                \n",
        "            # Update epoch pbar\n",
        "            pbar.update(1)\n",
        "        \n",
        "        testacc = test(test_loader, model, device, \n",
        "                     epoch=None, loader_type='Test')\n",
        "        print(f'Test Acc = {round(testacc,2)}%')\n",
        "\n",
        "\n",
        "# This is where your checkpoint file will be saved\n",
        "checkpoint_path = os.path.join(TORCH_DIR, \"fp32_checkpoint.pt\")\n",
        "\n",
        "model_fp32.to(device)\n",
        "run_training(\n",
        "    model=model_fp32, data_loaders=data_loaders, \n",
        "    n_epoch=n_epoch, optimizer=optimizer_fp32, \n",
        "    resume=True, checkpoint_path=checkpoint_path\n",
        ")"
      ]
    },
    {
      "cell_type": "markdown",
      "metadata": {
        "id": "Qg1WlG-rliKl"
      },
      "source": [
        "## 3.5 Testing"
      ]
    },
    {
      "cell_type": "markdown",
      "metadata": {
        "id": "oYgFvfYAliKm"
      },
      "source": [
        "### Calculating accuracy\n"
      ]
    },
    {
      "cell_type": "code",
      "execution_count": null,
      "metadata": {
        "id": "9PtKvJH_liKm",
        "colab": {
          "base_uri": "https://localhost:8080/",
          "height": 776
        },
        "outputId": "542379e5-b3ac-4e2e-9f77-2a6c8a5701fe"
      },
      "outputs": [
        {
          "output_type": "stream",
          "name": "stdout",
          "text": [
            "Train size: 10556 Val size: 1333 Test size: 1368\n"
          ]
        },
        {
          "output_type": "display_data",
          "data": {
            "text/plain": [
              "<Figure size 432x288 with 1 Axes>"
            ],
            "image/png": "[encoded data removed]"
          },
          "metadata": {
            "needs_background": "light"
          }
        },
        {
          "output_type": "display_data",
          "data": {
            "text/plain": [
              "<Figure size 432x288 with 1 Axes>"
            ],
            "image/png": "[encoded data removed]"
          },
          "metadata": {
            "needs_background": "light"
          }
        },
        {
          "output_type": "display_data",
          "data": {
            "text/plain": [
              "<Figure size 432x288 with 1 Axes>"
            ],
            "image/png": "[encoded data removed]"
          },
          "metadata": {
            "needs_background": "light"
          }
        }
      ],
      "source": [
        "from src.train_val_test_utils import plot_acc\n",
        "\n",
        "test_time_data_loaders = make_data_loaders(\n",
        "    audio_processor, device, \n",
        "    test_batch_size=1, valid_batch_size=1,\n",
        "    num_workers=0\n",
        ")\n",
        "\n",
        "plot_acc(\n",
        "    test_time_data_loaders['validation'], model_fp32, audio_processor, device,\n",
        "    \"validation\", 'float32 TinyConv', \"float\")\n",
        "plot_acc(\n",
        "    test_time_data_loaders['training'], model_fp32, audio_processor, device,\n",
        "    \"training\", 'float32 TinyConv', \"float\")\n",
        "acc = plot_acc(\n",
        "    test_time_data_loaders['testing'], model_fp32, audio_processor, device,\n",
        "    'testing', 'float32 TinyConv', \"float\")"
      ]
    },
    {
      "cell_type": "code",
      "source": [
        "\n",
        "bar_update = 1 / (len(train_loader) + len(test_loader) + len(valid_loader))\n",
        "\n",
        "def run_training(model, data_loaders, n_epoch, optimizer,\n",
        "                 save_interval=1, resume=True, checkpoint_path=None):\n",
        "    test_loader = data_loaders['testing']\n",
        "    val_accz = []\n",
        "    train_accz = []\n",
        "    with tqdm(total=n_epoch) as pbar:\n",
        "      \n",
        "        completed_epoch = 1\n",
        "        if resume:\n",
        "            try:\n",
        "                #continue training with previous model if one exists\n",
        "                checkpoint = torch.load(checkpoint_path)\n",
        "                model.load_state_dict(checkpoint['model_state_dict'])\n",
        "                optimizer.load_state_dict(checkpoint['optimizer_state_dict'])\n",
        "                completed_epoch = checkpoint[\"epoch\"] + 1\n",
        "                model.eval()\n",
        "                pbar.update(completed_epoch)\n",
        "            except:\n",
        "                pass\n",
        "\n",
        "        last_valacc = 0\n",
        "        for epoch in range(completed_epoch, n_epoch + 1):\n",
        "            train_iters = len(data_loaders['training'])\n",
        "            \n",
        "            train(model, data_loaders, optimizer, \n",
        "                      epoch, device)\n",
        "            \n",
        "            valacc = test(valid_loader, model, device, epoch=epoch, \n",
        "                          loader_type='Valid', verbose=True)\n",
        "            \n",
        "            val_accz.append(valacc)\n",
        "\n",
        "            train_acc = test(valid_loader, model, device, epoch=epoch, \n",
        "                          loader_type='Train', verbose=True)\n",
        "\n",
        "            train_accz.append(train_acc)\n",
        "\n",
        "            #checkpoint the model every epoch\n",
        "            if epoch % save_interval == 0 and valacc > last_valacc:\n",
        "                last_valacc = valacc\n",
        "                torch.save({\n",
        "                    'epoch': epoch,\n",
        "                    'model_state_dict': model.state_dict(),\n",
        "                    'optimizer_state_dict': optimizer.state_dict()\n",
        "                }, checkpoint_path)\n",
        "                \n",
        "            # Update epoch pbar\n",
        "            pbar.update(1)\n",
        "        \n",
        "        testacc = test(test_loader, model, device, \n",
        "                     epoch=None, loader_type='Test')\n",
        "        print(f'Test Acc = {round(testacc,2)}%')\n",
        "\n",
        "\n",
        "# This is where your checkpoint file will be saved\n",
        "checkpoint_path = os.path.join(TORCH_DIR, \"fp32_checkpoint.pt\")\n",
        "\n",
        "model_fp32.to(device)\n",
        "run_training(\n",
        "    model=model_fp32, data_loaders=data_loaders, \n",
        "    n_epoch=n_epoch, optimizer=optimizer_fp32, \n",
        "    resume=True, checkpoint_path=checkpoint_path\n",
        ")"
      ],
      "metadata": {
        "colab": {
          "base_uri": "https://localhost:8080/",
          "height": 546,
          "referenced_widgets": [
            "348efd692e1240c39583c91cf30df359",
            "556741e8e05a4c9dbdf01625557ed14c",
            "404d388e9f1945bd94c01a5318c80bc3",
            "9b28f1f3330b4a36a4f9e521000de71d",
            "e4574da50c1443a3b9ca2b61d5dc6a1d",
            "d586a6c973fc491e9d9211a8f878f494",
            "4de607d5a4bb4183a75f73c08d2a180c",
            "1c2add92a78042e7b572da733c443b90",
            "bd2a8d7053384456b8c9e2c508381585",
            "6b433a54525e45d3a5923a40fa6c119e",
            "a179c2193d2a46609b01ee04dc4a294d"
          ]
        },
        "id": "KcOZeGxr9ZOL",
        "outputId": "83c20a71-e3d8-41fb-d6c9-52d2511d6eba"
      },
      "execution_count": null,
      "outputs": [
        {
          "data": {
            "application/vnd.jupyter.widget-view+json": {
              "model_id": "348efd692e1240c39583c91cf30df359",
              "version_major": 2,
              "version_minor": 0
            },
            "text/plain": [
              "  0%|          | 0/50 [00:00<?, ?it/s]"
            ]
          },
          "metadata": {},
          "output_type": "display_data"
        },
        {
          "metadata": {
            "tags": null
          },
          "name": "stdout",
          "output_type": "stream",
          "text": [
            "Val Acc Epoch 50 = 88.82%, Train loss = 0.353\n",
            "\n",
            "Valid epoch: 50\tAccuracy: 1206/1333 (90.47%)\n",
            "\n",
            "\n",
            "Train epoch: 50\tAccuracy: 1197/1333 (89.80%)\n",
            "\n"
          ]
        },
        {
          "output_type": "error",
          "ename": "KeyboardInterrupt",
          "evalue": "ignored",
          "traceback": [
            "\u001b[0;31m---------------------------------------------------------------------------\u001b[0m",
            "\u001b[0;31mKeyboardInterrupt\u001b[0m                         Traceback (most recent call last)",
            "\u001b[0;32m<ipython-input-17-15b73716945d>\u001b[0m in \u001b[0;36m<module>\u001b[0;34m\u001b[0m\n\u001b[1;32m     59\u001b[0m \u001b[0;34m\u001b[0m\u001b[0m\n\u001b[1;32m     60\u001b[0m \u001b[0mmodel_fp32\u001b[0m\u001b[0;34m.\u001b[0m\u001b[0mto\u001b[0m\u001b[0;34m(\u001b[0m\u001b[0mdevice\u001b[0m\u001b[0;34m)\u001b[0m\u001b[0;34m\u001b[0m\u001b[0;34m\u001b[0m\u001b[0m\n\u001b[0;32m---> 61\u001b[0;31m run_training(\n\u001b[0m\u001b[1;32m     62\u001b[0m     \u001b[0mmodel\u001b[0m\u001b[0;34m=\u001b[0m\u001b[0mmodel_fp32\u001b[0m\u001b[0;34m,\u001b[0m \u001b[0mdata_loaders\u001b[0m\u001b[0;34m=\u001b[0m\u001b[0mdata_loaders\u001b[0m\u001b[0;34m,\u001b[0m\u001b[0;34m\u001b[0m\u001b[0;34m\u001b[0m\u001b[0m\n\u001b[1;32m     63\u001b[0m     \u001b[0mn_epoch\u001b[0m\u001b[0;34m=\u001b[0m\u001b[0mn_epoch\u001b[0m\u001b[0;34m,\u001b[0m \u001b[0moptimizer\u001b[0m\u001b[0;34m=\u001b[0m\u001b[0moptimizer_fp32\u001b[0m\u001b[0;34m,\u001b[0m\u001b[0;34m\u001b[0m\u001b[0;34m\u001b[0m\u001b[0m\n",
            "\u001b[0;32m<ipython-input-17-15b73716945d>\u001b[0m in \u001b[0;36mrun_training\u001b[0;34m(model, data_loaders, n_epoch, optimizer, save_interval, resume, checkpoint_path)\u001b[0m\n\u001b[1;32m     50\u001b[0m             \u001b[0mpbar\u001b[0m\u001b[0;34m.\u001b[0m\u001b[0mupdate\u001b[0m\u001b[0;34m(\u001b[0m\u001b[0;36m1\u001b[0m\u001b[0;34m)\u001b[0m\u001b[0;34m\u001b[0m\u001b[0;34m\u001b[0m\u001b[0m\n\u001b[1;32m     51\u001b[0m \u001b[0;34m\u001b[0m\u001b[0m\n\u001b[0;32m---> 52\u001b[0;31m         testacc = test(test_loader, model, device, \n\u001b[0m\u001b[1;32m     53\u001b[0m                      epoch=None, loader_type='Test')\n\u001b[1;32m     54\u001b[0m         \u001b[0mprint\u001b[0m\u001b[0;34m(\u001b[0m\u001b[0mvalacc\u001b[0m\u001b[0;34m,\u001b[0m \u001b[0mtrain_acc\u001b[0m\u001b[0;34m,\u001b[0m \u001b[0mtest_acc\u001b[0m\u001b[0;34m)\u001b[0m\u001b[0;34m\u001b[0m\u001b[0;34m\u001b[0m\u001b[0m\n",
            "\u001b[0;32m/content/gdrive/MyDrive/ece5545/a2-WDaugherty/src/train_val_test_utils.py\u001b[0m in \u001b[0;36mtest\u001b[0;34m(loader, model, device, epoch, loader_type, verbose)\u001b[0m\n\u001b[1;32m    149\u001b[0m     \u001b[0mmodel\u001b[0m\u001b[0;34m.\u001b[0m\u001b[0meval\u001b[0m\u001b[0;34m(\u001b[0m\u001b[0;34m)\u001b[0m\u001b[0;34m\u001b[0m\u001b[0;34m\u001b[0m\u001b[0m\n\u001b[1;32m    150\u001b[0m     \u001b[0mcorrect\u001b[0m \u001b[0;34m=\u001b[0m \u001b[0;36m0\u001b[0m\u001b[0;34m\u001b[0m\u001b[0;34m\u001b[0m\u001b[0m\n\u001b[0;32m--> 151\u001b[0;31m     \u001b[0;32mfor\u001b[0m \u001b[0mdata\u001b[0m\u001b[0;34m,\u001b[0m \u001b[0mtarget\u001b[0m \u001b[0;32min\u001b[0m \u001b[0mloader\u001b[0m\u001b[0;34m:\u001b[0m\u001b[0;34m\u001b[0m\u001b[0;34m\u001b[0m\u001b[0m\n\u001b[0m\u001b[1;32m    152\u001b[0m         \u001b[0mdata\u001b[0m \u001b[0;34m=\u001b[0m \u001b[0mdata\u001b[0m\u001b[0;34m.\u001b[0m\u001b[0mto\u001b[0m\u001b[0;34m(\u001b[0m\u001b[0mdevice\u001b[0m\u001b[0;34m)\u001b[0m\u001b[0;34m\u001b[0m\u001b[0;34m\u001b[0m\u001b[0m\n\u001b[1;32m    153\u001b[0m         \u001b[0mtarget\u001b[0m \u001b[0;34m=\u001b[0m \u001b[0mtarget\u001b[0m\u001b[0;34m.\u001b[0m\u001b[0mto\u001b[0m\u001b[0;34m(\u001b[0m\u001b[0mdevice\u001b[0m\u001b[0;34m)\u001b[0m\u001b[0;34m\u001b[0m\u001b[0;34m\u001b[0m\u001b[0m\n",
            "\u001b[0;32m/usr/local/lib/python3.9/dist-packages/torch/utils/data/dataloader.py\u001b[0m in \u001b[0;36m__next__\u001b[0;34m(self)\u001b[0m\n\u001b[1;32m    626\u001b[0m                 \u001b[0;31m# TODO(https://github.com/pytorch/pytorch/issues/76750)\u001b[0m\u001b[0;34m\u001b[0m\u001b[0;34m\u001b[0m\u001b[0m\n\u001b[1;32m    627\u001b[0m                 \u001b[0mself\u001b[0m\u001b[0;34m.\u001b[0m\u001b[0m_reset\u001b[0m\u001b[0;34m(\u001b[0m\u001b[0;34m)\u001b[0m  \u001b[0;31m# type: ignore[call-arg]\u001b[0m\u001b[0;34m\u001b[0m\u001b[0;34m\u001b[0m\u001b[0m\n\u001b[0;32m--> 628\u001b[0;31m             \u001b[0mdata\u001b[0m \u001b[0;34m=\u001b[0m \u001b[0mself\u001b[0m\u001b[0;34m.\u001b[0m\u001b[0m_next_data\u001b[0m\u001b[0;34m(\u001b[0m\u001b[0;34m)\u001b[0m\u001b[0;34m\u001b[0m\u001b[0;34m\u001b[0m\u001b[0m\n\u001b[0m\u001b[1;32m    629\u001b[0m             \u001b[0mself\u001b[0m\u001b[0;34m.\u001b[0m\u001b[0m_num_yielded\u001b[0m \u001b[0;34m+=\u001b[0m \u001b[0;36m1\u001b[0m\u001b[0;34m\u001b[0m\u001b[0;34m\u001b[0m\u001b[0m\n\u001b[1;32m    630\u001b[0m             \u001b[0;32mif\u001b[0m \u001b[0mself\u001b[0m\u001b[0;34m.\u001b[0m\u001b[0m_dataset_kind\u001b[0m \u001b[0;34m==\u001b[0m \u001b[0m_DatasetKind\u001b[0m\u001b[0;34m.\u001b[0m\u001b[0mIterable\u001b[0m \u001b[0;32mand\u001b[0m\u001b[0;31m \u001b[0m\u001b[0;31m\\\u001b[0m\u001b[0;34m\u001b[0m\u001b[0;34m\u001b[0m\u001b[0m\n",
            "\u001b[0;32m/usr/local/lib/python3.9/dist-packages/torch/utils/data/dataloader.py\u001b[0m in \u001b[0;36m_next_data\u001b[0;34m(self)\u001b[0m\n\u001b[1;32m    669\u001b[0m     \u001b[0;32mdef\u001b[0m \u001b[0m_next_data\u001b[0m\u001b[0;34m(\u001b[0m\u001b[0mself\u001b[0m\u001b[0;34m)\u001b[0m\u001b[0;34m:\u001b[0m\u001b[0;34m\u001b[0m\u001b[0;34m\u001b[0m\u001b[0m\n\u001b[1;32m    670\u001b[0m         \u001b[0mindex\u001b[0m \u001b[0;34m=\u001b[0m \u001b[0mself\u001b[0m\u001b[0;34m.\u001b[0m\u001b[0m_next_index\u001b[0m\u001b[0;34m(\u001b[0m\u001b[0;34m)\u001b[0m  \u001b[0;31m# may raise StopIteration\u001b[0m\u001b[0;34m\u001b[0m\u001b[0;34m\u001b[0m\u001b[0m\n\u001b[0;32m--> 671\u001b[0;31m         \u001b[0mdata\u001b[0m \u001b[0;34m=\u001b[0m \u001b[0mself\u001b[0m\u001b[0;34m.\u001b[0m\u001b[0m_dataset_fetcher\u001b[0m\u001b[0;34m.\u001b[0m\u001b[0mfetch\u001b[0m\u001b[0;34m(\u001b[0m\u001b[0mindex\u001b[0m\u001b[0;34m)\u001b[0m  \u001b[0;31m# may raise StopIteration\u001b[0m\u001b[0;34m\u001b[0m\u001b[0;34m\u001b[0m\u001b[0m\n\u001b[0m\u001b[1;32m    672\u001b[0m         \u001b[0;32mif\u001b[0m \u001b[0mself\u001b[0m\u001b[0;34m.\u001b[0m\u001b[0m_pin_memory\u001b[0m\u001b[0;34m:\u001b[0m\u001b[0;34m\u001b[0m\u001b[0;34m\u001b[0m\u001b[0m\n\u001b[1;32m    673\u001b[0m             \u001b[0mdata\u001b[0m \u001b[0;34m=\u001b[0m \u001b[0m_utils\u001b[0m\u001b[0;34m.\u001b[0m\u001b[0mpin_memory\u001b[0m\u001b[0;34m.\u001b[0m\u001b[0mpin_memory\u001b[0m\u001b[0;34m(\u001b[0m\u001b[0mdata\u001b[0m\u001b[0;34m,\u001b[0m \u001b[0mself\u001b[0m\u001b[0;34m.\u001b[0m\u001b[0m_pin_memory_device\u001b[0m\u001b[0;34m)\u001b[0m\u001b[0;34m\u001b[0m\u001b[0;34m\u001b[0m\u001b[0m\n",
            "\u001b[0;32m/usr/local/lib/python3.9/dist-packages/torch/utils/data/_utils/fetch.py\u001b[0m in \u001b[0;36mfetch\u001b[0;34m(self, possibly_batched_index)\u001b[0m\n\u001b[1;32m     59\u001b[0m         \u001b[0;32melse\u001b[0m\u001b[0;34m:\u001b[0m\u001b[0;34m\u001b[0m\u001b[0;34m\u001b[0m\u001b[0m\n\u001b[1;32m     60\u001b[0m             \u001b[0mdata\u001b[0m \u001b[0;34m=\u001b[0m \u001b[0mself\u001b[0m\u001b[0;34m.\u001b[0m\u001b[0mdataset\u001b[0m\u001b[0;34m[\u001b[0m\u001b[0mpossibly_batched_index\u001b[0m\u001b[0;34m]\u001b[0m\u001b[0;34m\u001b[0m\u001b[0;34m\u001b[0m\u001b[0m\n\u001b[0;32m---> 61\u001b[0;31m         \u001b[0;32mreturn\u001b[0m \u001b[0mself\u001b[0m\u001b[0;34m.\u001b[0m\u001b[0mcollate_fn\u001b[0m\u001b[0;34m(\u001b[0m\u001b[0mdata\u001b[0m\u001b[0;34m)\u001b[0m\u001b[0;34m\u001b[0m\u001b[0;34m\u001b[0m\u001b[0m\n\u001b[0m",
            "\u001b[0;32m/content/gdrive/MyDrive/ece5545/a2-WDaugherty/src/loaders.py\u001b[0m in \u001b[0;36mcollate_fn_\u001b[0;34m(batch)\u001b[0m\n\u001b[1;32m     24\u001b[0m         \u001b[0;31m# added to the audio data except for silence.\u001b[0m\u001b[0;34m\u001b[0m\u001b[0;34m\u001b[0m\u001b[0m\n\u001b[1;32m     25\u001b[0m         \u001b[0;32mfor\u001b[0m \u001b[0mdict\u001b[0m \u001b[0;32min\u001b[0m \u001b[0mbatch\u001b[0m\u001b[0;34m:\u001b[0m\u001b[0;34m\u001b[0m\u001b[0;34m\u001b[0m\u001b[0m\n\u001b[0;32m---> 26\u001b[0;31m             data, label = audio_processor.get_data_from_file(\n\u001b[0m\u001b[1;32m     27\u001b[0m                 \u001b[0mdict\u001b[0m\u001b[0;34m,\u001b[0m \u001b[0mBACKGROUND_FREQUENCY\u001b[0m\u001b[0;34m,\u001b[0m \u001b[0mBACKGROUND_VOLUME_RANGE\u001b[0m\u001b[0;34m,\u001b[0m\u001b[0;31m \u001b[0m\u001b[0;31m\\\u001b[0m\u001b[0;34m\u001b[0m\u001b[0;34m\u001b[0m\u001b[0m\n\u001b[1;32m     28\u001b[0m                 TIME_SHIFT_SAMPLE, mode)\n",
            "\u001b[0;32m/content/gdrive/MyDrive/ece5545/a2-WDaugherty/src/data_proc.py\u001b[0m in \u001b[0;36mget_data_from_file\u001b[0;34m(self, sample, background_frequency, background_volume_range, time_shift, mode)\u001b[0m\n\u001b[1;32m    329\u001b[0m \u001b[0;34m\u001b[0m\u001b[0m\n\u001b[1;32m    330\u001b[0m     \u001b[0;31m# run the graph\u001b[0m\u001b[0;34m\u001b[0m\u001b[0;34m\u001b[0m\u001b[0m\n\u001b[0;32m--> 331\u001b[0;31m     self.prepare_processing_graph(wav_filename, foreground_volume, time_shift_offset, \\\n\u001b[0m\u001b[1;32m    332\u001b[0m         time_shift_padding, background_data, background_volume)\n\u001b[1;32m    333\u001b[0m     \u001b[0mdata_tensor\u001b[0m \u001b[0;34m=\u001b[0m \u001b[0mself\u001b[0m\u001b[0;34m.\u001b[0m\u001b[0moutput\u001b[0m\u001b[0;34m\u001b[0m\u001b[0;34m\u001b[0m\u001b[0m\n",
            "\u001b[0;32m/content/gdrive/MyDrive/ece5545/a2-WDaugherty/src/data_proc.py\u001b[0m in \u001b[0;36mprepare_processing_graph\u001b[0;34m(self, wav_filename, foreground_volume, time_shift_offset, time_shift_padding, background_data, background_volume)\u001b[0m\n\u001b[1;32m    535\u001b[0m     \u001b[0;31m# loads and decode a WAVE file\u001b[0m\u001b[0;34m\u001b[0m\u001b[0;34m\u001b[0m\u001b[0m\n\u001b[1;32m    536\u001b[0m     \u001b[0mdesired_samples\u001b[0m \u001b[0;34m=\u001b[0m \u001b[0mself\u001b[0m\u001b[0;34m.\u001b[0m\u001b[0mmodel_settings\u001b[0m\u001b[0;34m[\u001b[0m\u001b[0;34m'desired_samples'\u001b[0m\u001b[0;34m]\u001b[0m\u001b[0;34m\u001b[0m\u001b[0;34m\u001b[0m\u001b[0m\n\u001b[0;32m--> 537\u001b[0;31m     \u001b[0mwaveform\u001b[0m\u001b[0;34m,\u001b[0m \u001b[0msample_rate\u001b[0m \u001b[0;34m=\u001b[0m \u001b[0mtorchaudio\u001b[0m\u001b[0;34m.\u001b[0m\u001b[0mload\u001b[0m\u001b[0;34m(\u001b[0m\u001b[0mwav_filename\u001b[0m\u001b[0;34m,\u001b[0m \u001b[0mframe_offset\u001b[0m\u001b[0;34m=\u001b[0m\u001b[0;36m0\u001b[0m\u001b[0;34m,\u001b[0m \u001b[0mnum_frames\u001b[0m\u001b[0;34m=\u001b[0m\u001b[0mdesired_samples\u001b[0m\u001b[0;34m)\u001b[0m\u001b[0;34m\u001b[0m\u001b[0;34m\u001b[0m\u001b[0m\n\u001b[0m\u001b[1;32m    538\u001b[0m     \u001b[0mtotal_num_samples\u001b[0m\u001b[0;34m=\u001b[0m\u001b[0mwaveform\u001b[0m\u001b[0;34m.\u001b[0m\u001b[0mshape\u001b[0m\u001b[0;34m[\u001b[0m\u001b[0;36m1\u001b[0m\u001b[0;34m]\u001b[0m\u001b[0;34m\u001b[0m\u001b[0;34m\u001b[0m\u001b[0m\n\u001b[1;32m    539\u001b[0m     \u001b[0;32mif\u001b[0m \u001b[0mtotal_num_samples\u001b[0m \u001b[0;34m<\u001b[0m \u001b[0mdesired_samples\u001b[0m\u001b[0;34m:\u001b[0m\u001b[0;34m\u001b[0m\u001b[0;34m\u001b[0m\u001b[0m\n",
            "\u001b[0;32m/usr/local/lib/python3.9/dist-packages/torchaudio/backend/sox_io_backend.py\u001b[0m in \u001b[0;36mload\u001b[0;34m(filepath, frame_offset, num_frames, normalize, channels_first, format)\u001b[0m\n\u001b[1;32m    239\u001b[0m             )\n\u001b[1;32m    240\u001b[0m         \u001b[0mfilepath\u001b[0m \u001b[0;34m=\u001b[0m \u001b[0mos\u001b[0m\u001b[0;34m.\u001b[0m\u001b[0mfspath\u001b[0m\u001b[0;34m(\u001b[0m\u001b[0mfilepath\u001b[0m\u001b[0;34m)\u001b[0m\u001b[0;34m\u001b[0m\u001b[0;34m\u001b[0m\u001b[0m\n\u001b[0;32m--> 241\u001b[0;31m     ret = torch.ops.torchaudio.sox_io_load_audio_file(\n\u001b[0m\u001b[1;32m    242\u001b[0m         \u001b[0mfilepath\u001b[0m\u001b[0;34m,\u001b[0m \u001b[0mframe_offset\u001b[0m\u001b[0;34m,\u001b[0m \u001b[0mnum_frames\u001b[0m\u001b[0;34m,\u001b[0m \u001b[0mnormalize\u001b[0m\u001b[0;34m,\u001b[0m \u001b[0mchannels_first\u001b[0m\u001b[0;34m,\u001b[0m \u001b[0mformat\u001b[0m\u001b[0;34m\u001b[0m\u001b[0;34m\u001b[0m\u001b[0m\n\u001b[1;32m    243\u001b[0m     )\n",
            "\u001b[0;32m/usr/local/lib/python3.9/dist-packages/torch/_ops.py\u001b[0m in \u001b[0;36m__call__\u001b[0;34m(self, *args, **kwargs)\u001b[0m\n\u001b[1;32m    440\u001b[0m         \u001b[0;31m# We save the function ptr as the `op` attribute on\u001b[0m\u001b[0;34m\u001b[0m\u001b[0;34m\u001b[0m\u001b[0m\n\u001b[1;32m    441\u001b[0m         \u001b[0;31m# OpOverloadPacket to access it here.\u001b[0m\u001b[0;34m\u001b[0m\u001b[0;34m\u001b[0m\u001b[0m\n\u001b[0;32m--> 442\u001b[0;31m         \u001b[0;32mreturn\u001b[0m \u001b[0mself\u001b[0m\u001b[0;34m.\u001b[0m\u001b[0m_op\u001b[0m\u001b[0;34m(\u001b[0m\u001b[0;34m*\u001b[0m\u001b[0margs\u001b[0m\u001b[0;34m,\u001b[0m \u001b[0;34m**\u001b[0m\u001b[0mkwargs\u001b[0m \u001b[0;32mor\u001b[0m \u001b[0;34m{\u001b[0m\u001b[0;34m}\u001b[0m\u001b[0;34m)\u001b[0m\u001b[0;34m\u001b[0m\u001b[0;34m\u001b[0m\u001b[0m\n\u001b[0m\u001b[1;32m    443\u001b[0m \u001b[0;34m\u001b[0m\u001b[0m\n\u001b[1;32m    444\u001b[0m     \u001b[0;31m# TODO: use this to make a __dir__\u001b[0m\u001b[0;34m\u001b[0m\u001b[0;34m\u001b[0m\u001b[0m\n",
            "\u001b[0;31mKeyboardInterrupt\u001b[0m: "
          ]
        }
      ]
    },
    {
      "cell_type": "code",
      "source": [
        "STRING = ''' \n",
        "Val Acc Epoch 1 = 83.8%, Train loss = 1.133\n",
        "\n",
        "Valid epoch: 1\tAccuracy: 1092/1333 (81.92%)\n",
        "\n",
        "Val Acc Epoch 2 = 85.67%, Train loss = 0.561\n",
        "\n",
        "Valid epoch: 2\tAccuracy: 1141/1333 (85.60%)\n",
        "\n",
        "Val Acc Epoch 3 = 87.55%, Train loss = 0.489\n",
        "\n",
        "Valid epoch: 3\tAccuracy: 1160/1333 (87.02%)\n",
        "\n",
        "Val Acc Epoch 4 = 87.92%, Train loss = 0.46\n",
        "\n",
        "Valid epoch: 4\tAccuracy: 1165/1333 (87.40%)\n",
        "\n",
        "Val Acc Epoch 5 = 88.22%, Train loss = 0.445\n",
        "\n",
        "Valid epoch: 5\tAccuracy: 1181/1333 (88.60%)\n",
        "\n",
        "Val Acc Epoch 6 = 88.52%, Train loss = 0.418\n",
        "\n",
        "Valid epoch: 6\tAccuracy: 1170/1333 (87.77%)\n",
        "\n",
        "Val Acc Epoch 7 = 86.95%, Train loss = 0.422\n",
        "\n",
        "Valid epoch: 7\tAccuracy: 1182/1333 (88.67%)\n",
        "\n",
        "Val Acc Epoch 8 = 88.3%, Train loss = 0.416\n",
        "\n",
        "Valid epoch: 8\tAccuracy: 1175/1333 (88.15%)\n",
        "\n",
        "Val Acc Epoch 9 = 89.35%, Train loss = 0.409\n",
        "\n",
        "Valid epoch: 9\tAccuracy: 1197/1333 (89.80%)\n",
        "\n",
        "Val Acc Epoch 10 = 87.92%, Train loss = 0.395\n",
        "\n",
        "Valid epoch: 10\tAccuracy: 1180/1333 (88.52%)\n",
        "\n",
        "Val Acc Epoch 11 = 89.35%, Train loss = 0.403\n",
        "\n",
        "Valid epoch: 11\tAccuracy: 1182/1333 (88.67%)\n",
        "\n",
        "Val Acc Epoch 12 = 89.27%, Train loss = 0.386\n",
        "\n",
        "Valid epoch: 12\tAccuracy: 1192/1333 (89.42%)\n",
        "\n",
        "Val Acc Epoch 13 = 89.27%, Train loss = 0.379\n",
        "\n",
        "Valid epoch: 13\tAccuracy: 1183/1333 (88.75%)\n",
        "\n",
        "Val Acc Epoch 14 = 89.2%, Train loss = 0.388\n",
        "\n",
        "Valid epoch: 14\tAccuracy: 1198/1333 (89.87%)\n",
        "\n",
        "Val Acc Epoch 15 = 89.72%, Train loss = 0.378\n",
        "\n",
        "Valid epoch: 15\tAccuracy: 1199/1333 (89.95%)\n",
        "\n",
        "Val Acc Epoch 16 = 88.37%, Train loss = 0.38\n",
        "\n",
        "Valid epoch: 16\tAccuracy: 1201/1333 (90.10%)\n",
        "\n",
        "Val Acc Epoch 17 = 88.82%, Train loss = 0.367\n",
        "\n",
        "Valid epoch: 17\tAccuracy: 1185/1333 (88.90%)\n",
        "\n",
        "Val Acc Epoch 18 = 88.75%, Train loss = 0.373\n",
        "\n",
        "Valid epoch: 18\tAccuracy: 1198/1333 (89.87%)\n",
        "\n",
        "Val Acc Epoch 19 = 88.3%, Train loss = 0.37\n",
        "\n",
        "Valid epoch: 19\tAccuracy: 1198/1333 (89.87%)\n",
        "\n",
        "Val Acc Epoch 20 = 88.3%, Train loss = 0.368\n",
        "\n",
        "Valid epoch: 20\tAccuracy: 1183/1333 (88.75%)\n",
        "\n",
        "Val Acc Epoch 21 = 89.42%, Train loss = 0.368\n",
        "\n",
        "Valid epoch: 21\tAccuracy: 1201/1333 (90.10%)\n",
        "\n",
        "Val Acc Epoch 22 = 88.37%, Train loss = 0.363\n",
        "\n",
        "Valid epoch: 22\tAccuracy: 1189/1333 (89.20%)\n",
        "\n",
        "Val Acc Epoch 23 = 89.65%, Train loss = 0.364\n",
        "\n",
        "Valid epoch: 23\tAccuracy: 1188/1333 (89.12%)\n",
        "\n",
        "Val Acc Epoch 24 = 89.87%, Train loss = 0.357\n",
        "\n",
        "Valid epoch: 24\tAccuracy: 1203/1333 (90.25%)\n",
        "\n",
        "Val Acc Epoch 25 = 90.47%, Train loss = 0.361\n",
        "\n",
        "Valid epoch: 25\tAccuracy: 1190/1333 (89.27%)\n",
        "\n",
        "Val Acc Epoch 26 = 89.87%, Train loss = 0.361\n",
        "\n",
        "Valid epoch: 26\tAccuracy: 1205/1333 (90.40%)\n",
        "\n",
        "Val Acc Epoch 27 = 89.8%, Train loss = 0.354\n",
        "\n",
        "Valid epoch: 27\tAccuracy: 1203/1333 (90.25%)\n",
        "\n",
        "Val Acc Epoch 28 = 90.25%, Train loss = 0.35\n",
        "\n",
        "Valid epoch: 28\tAccuracy: 1201/1333 (90.10%)\n",
        "\n",
        "Val Acc Epoch 29 = 89.35%, Train loss = 0.36\n",
        "\n",
        "Valid epoch: 29\tAccuracy: 1194/1333 (89.57%)\n",
        "\n",
        "Val Acc Epoch 30 = 89.12%, Train loss = 0.36\n",
        "\n",
        "Valid epoch: 30\tAccuracy: 1189/1333 (89.20%)\n",
        "\n",
        "Val Acc Epoch 31 = 89.05%, Train loss = 0.367\n",
        "\n",
        "Valid epoch: 31\tAccuracy: 1196/1333 (89.72%)\n",
        "\n",
        "Val Acc Epoch 32 = 89.72%, Train loss = 0.353\n",
        "\n",
        "Valid epoch: 32\tAccuracy: 1205/1333 (90.40%)\n",
        "\n",
        "Val Acc Epoch 33 = 90.25%, Train loss = 0.352\n",
        "\n",
        "Valid epoch: 33\tAccuracy: 1198/1333 (89.87%)\n",
        "\n",
        "Val Acc Epoch 34 = 90.4%, Train loss = 0.339\n",
        "\n",
        "Valid epoch: 34\tAccuracy: 1196/1333 (89.72%)\n",
        "\n",
        "Val Acc Epoch 35 = 89.65%, Train loss = 0.342\n",
        "\n",
        "Valid epoch: 35\tAccuracy: 1200/1333 (90.02%)\n",
        "\n",
        "Val Acc Epoch 36 = 90.17%, Train loss = 0.341\n",
        "\n",
        "Valid epoch: 36\tAccuracy: 1209/1333 (90.70%)\n",
        "\n",
        "Val Acc Epoch 37 = 90.77%, Train loss = 0.352\n",
        "\n",
        "Valid epoch: 37\tAccuracy: 1194/1333 (89.57%)\n",
        "\n",
        "Val Acc Epoch 38 = 90.32%, Train loss = 0.336\n",
        "\n",
        "Valid epoch: 38\tAccuracy: 1203/1333 (90.25%)\n",
        "\n",
        "Val Acc Epoch 39 = 90.55%, Train loss = 0.353\n",
        "\n",
        "Valid epoch: 39\tAccuracy: 1205/1333 (90.40%)\n",
        "\n",
        "Val Acc Epoch 40 = 90.92%, Train loss = 0.333\n",
        "\n",
        "Valid epoch: 40\tAccuracy: 1198/1333 (89.87%)\n",
        "\n",
        "Val Acc Epoch 41 = 91.0%, Train loss = 0.32\n",
        "\n",
        "Valid epoch: 41\tAccuracy: 1209/1333 (90.70%)\n",
        "\n",
        "Val Acc Epoch 42 = 89.87%, Train loss = 0.346\n",
        "\n",
        "Valid epoch: 42\tAccuracy: 1194/1333 (89.57%)\n",
        "\n",
        "Val Acc Epoch 43 = 90.85%, Train loss = 0.343\n",
        "\n",
        "Valid epoch: 43\tAccuracy: 1204/1333 (90.32%)\n",
        "\n",
        "Val Acc Epoch 44 = 90.02%, Train loss = 0.321\n",
        "\n",
        "Valid epoch: 44\tAccuracy: 1204/1333 (90.32%)\n",
        "\n",
        "Val Acc Epoch 45 = 90.85%, Train loss = 0.33\n",
        "\n",
        "Valid epoch: 45\tAccuracy: 1203/1333 (90.25%)\n",
        "\n",
        "Val Acc Epoch 46 = 91.3%, Train loss = 0.331\n",
        "\n",
        "Valid epoch: 46\tAccuracy: 1207/1333 (90.55%)\n",
        "\n",
        "Val Acc Epoch 47 = 89.87%, Train loss = 0.342\n",
        "\n",
        "Valid epoch: 47\tAccuracy: 1207/1333 (90.55%)\n",
        "\n",
        "Val Acc Epoch 48 = 89.87%, Train loss = 0.333\n",
        "\n",
        "Valid epoch: 48\tAccuracy: 1195/1333 (89.65%)\n",
        "\n",
        "Val Acc Epoch 49 = 90.7%, Train loss = 0.327\n",
        "\n",
        "Valid epoch: 49\tAccuracy: 1223/1333 (91.75%)\n",
        "\n",
        "Val Acc Epoch 50 = 89.8%, Train loss = 0.334\n",
        "\n",
        "Valid epoch: 50\tAccuracy: 1217/1333 (91.30%)'''"
      ],
      "metadata": {
        "id": "Xd1e_72RyJKu"
      },
      "execution_count": null,
      "outputs": []
    },
    {
      "cell_type": "code",
      "source": [
        "import re\n",
        "import numpy as np\n",
        "import matplotlib.pyplot as plt\n",
        "\n",
        "def get_accs_and_plot(string):\n",
        "    val_accs = []\n",
        "    train_accs = []\n",
        "    for i, line in enumerate(string.split('\\n')):\n",
        "        if 'Valid epoch' in line:\n",
        "            val_acc = float(line.split('(')[-1].replace('%)','')) / 100.0\n",
        "            val_accs.append(val_acc)\n",
        "        elif 'Val Acc' in line:\n",
        "            train_acc = float(re.findall(r'\\d+\\.\\d+(?=%)', line)[0]) / 100.0\n",
        "            train_accs.append(train_acc)\n",
        "    epochs = range(1, len(val_accs) + 1)\n",
        "    plt.plot(epochs, train_accs, '-', label='Train')\n",
        "    plt.plot(epochs, val_accs, '-', label='Validation')\n",
        "    plt.xlabel('Epoch')\n",
        "    plt.ylabel('Accuracy')\n",
        "    plt.title('Training and Validation Accuracy')\n",
        "    plt.legend()\n",
        "    plt.show()\n",
        "    return val_accs, train_accs\n"
      ],
      "metadata": {
        "id": "KWktMh0NAJdT"
      },
      "execution_count": null,
      "outputs": []
    },
    {
      "cell_type": "code",
      "source": [
        "val_accs, train_accs = get_accs_and_plot(STRING)"
      ],
      "metadata": {
        "colab": {
          "base_uri": "https://localhost:8080/",
          "height": 295
        },
        "id": "nRHlkT0U0KPb",
        "outputId": "c89142a0-1c9a-4d65-9315-f843b0aca3df"
      },
      "execution_count": null,
      "outputs": [
        {
          "output_type": "display_data",
          "data": {
            "text/plain": [
              "<Figure size 432x288 with 1 Axes>"
            ],
            "image/png": "[encoded data removed]"
          },
          "metadata": {
            "needs_background": "light"
          }
        }
      ]
    },
    {
      "cell_type": "markdown",
      "metadata": {
        "id": "_tMzxb-jliKm"
      },
      "source": [
        "## 3.6 Save the Trained Model"
      ]
    },
    {
      "cell_type": "code",
      "execution_count": null,
      "metadata": {
        "id": "zqC6fEoUliKm"
      },
      "outputs": [],
      "source": [
        "def choose_name(model_name):\n",
        "    name = f\"{model_name}_\" + \"{index}\"\n",
        "    i = 0\n",
        "    while os.path.isfile(name.format(index=i)):\n",
        "        i += 1\n",
        "    name = name.format(index = i)\n",
        "    print(f\"The model's will be stored as: \\n {name}\")\n",
        "    return name\n",
        "\n",
        "def save_model(model, path):\n",
        "    torch.save(model.state_dict(), path)"
      ]
    },
    {
      "cell_type": "code",
      "execution_count": null,
      "metadata": {
        "id": "VVKrP45aliKm",
        "colab": {
          "base_uri": "https://localhost:8080/",
          "height": 71
        },
        "outputId": "69d7b99e-261a-4924-add7-377e1063be31"
      },
      "outputs": [
        {
          "output_type": "stream",
          "name": "stdout",
          "text": [
            "The model's will be stored as: \n",
            " tinyconv_float32_init_seed0_91.45%_0\n"
          ]
        },
        {
          "output_type": "execute_result",
          "data": {
            "text/plain": [
              "'/content/gdrive/MyDrive/ece5545/models/torch_models/tinyconv_float32_init_seed0_91.45%_0.pt'"
            ],
            "application/vnd.google.colaboratory.intrinsic+json": {
              "type": "string"
            }
          },
          "metadata": {},
          "execution_count": 29
        }
      ],
      "source": [
        "# Choose a path\n",
        "# You can also define your own path\n",
        "model_name = f\"tinyconv_float32_init_seed{torch.initial_seed()}_{acc * 100:.2f}%\"\n",
        "file_name = choose_name(model_name)\n",
        "torch_path = os.path.join(TORCH_DIR, f'{file_name}.pt')\n",
        "torch_path"
      ]
    },
    {
      "cell_type": "code",
      "execution_count": null,
      "metadata": {
        "id": "JHgqZ8yXliKn",
        "colab": {
          "base_uri": "https://localhost:8080/",
          "height": 35
        },
        "outputId": "b176dfbd-bed8-4e60-8fa5-2bad73d39285"
      },
      "outputs": [
        {
          "output_type": "execute_result",
          "data": {
            "text/plain": [
              "'Saved!'"
            ],
            "application/vnd.google.colaboratory.intrinsic+json": {
              "type": "string"
            }
          },
          "metadata": {},
          "execution_count": 30
        }
      ],
      "source": [
        "# Save the trained pytorch model to torch_path\n",
        "save_model(model_fp32, torch_path)\n",
        "'Saved!'"
      ]
    },
    {
      "cell_type": "code",
      "execution_count": null,
      "metadata": {
        "id": "CnJHbwj0UAi5",
        "colab": {
          "base_uri": "https://localhost:8080/",
          "height": 35
        },
        "outputId": "a54975c0-f014-437e-db6a-50be2aeebc16"
      },
      "outputs": [
        {
          "output_type": "execute_result",
          "data": {
            "text/plain": [
              "'You can now find your model in /content/gdrive/MyDrive/ece5545/models/torch_models/tinyconv_float32_init_seed0_91.45%_0.pt under the folder icon to the left.'"
            ],
            "application/vnd.google.colaboratory.intrinsic+json": {
              "type": "string"
            }
          },
          "metadata": {},
          "execution_count": 31
        }
      ],
      "source": [
        "'You can now find your model in %s under the folder icon to the left.' % torch_path"
      ]
    },
    {
      "cell_type": "code",
      "source": [],
      "metadata": {
        "id": "kauQRx68xaeo"
      },
      "execution_count": null,
      "outputs": []
    }
  ],
  "metadata": {
    "colab": {
      "provenance": [],
      "include_colab_link": true
    },
    "interpreter": {
      "hash": "92bf126df007708fd70c442c808ee74575bedf7ea6317e0b182c3af0184af25d"
    },
    "kernelspec": {
      "display_name": "Python 3",
      "name": "python3"
    },
    "language_info": {
      "name": "python"
    },
    "accelerator": "GPU",
    "widgets": {
      "application/vnd.jupyter.widget-state+json": {
        "fefb8c54126f48109141e3d4d721211f": {
          "model_module": "@jupyter-widgets/controls",
          "model_name": "HBoxModel",
          "model_module_version": "1.5.0",
          "state": {
            "_dom_classes": [],
            "_model_module": "@jupyter-widgets/controls",
            "_model_module_version": "1.5.0",
            "_model_name": "HBoxModel",
            "_view_count": null,
            "_view_module": "@jupyter-widgets/controls",
            "_view_module_version": "1.5.0",
            "_view_name": "HBoxView",
            "box_style": "",
            "children": [
              "IPY_MODEL_39c7ea84df9b430285e23a4575b64e56",
              "IPY_MODEL_c9024b47117a4c56bfb073ca142cadb2",
              "IPY_MODEL_8b9c5287174e400e967601fae18a98d3"
            ],
            "layout": "IPY_MODEL_d6d9bd80c23541ff91f0b83db59b6638"
          }
        },
        "39c7ea84df9b430285e23a4575b64e56": {
          "model_module": "@jupyter-widgets/controls",
          "model_name": "HTMLModel",
          "model_module_version": "1.5.0",
          "state": {
            "_dom_classes": [],
            "_model_module": "@jupyter-widgets/controls",
            "_model_module_version": "1.5.0",
            "_model_name": "HTMLModel",
            "_view_count": null,
            "_view_module": "@jupyter-widgets/controls",
            "_view_module_version": "1.5.0",
            "_view_name": "HTMLView",
            "description": "",
            "description_tooltip": null,
            "layout": "IPY_MODEL_95ef3c292dee416bb2702ede59dea6ff",
            "placeholder": "​",
            "style": "IPY_MODEL_aa002b50f0a14e51a3ae89e1d469176a",
            "value": "100%"
          }
        },
        "c9024b47117a4c56bfb073ca142cadb2": {
          "model_module": "@jupyter-widgets/controls",
          "model_name": "FloatProgressModel",
          "model_module_version": "1.5.0",
          "state": {
            "_dom_classes": [],
            "_model_module": "@jupyter-widgets/controls",
            "_model_module_version": "1.5.0",
            "_model_name": "FloatProgressModel",
            "_view_count": null,
            "_view_module": "@jupyter-widgets/controls",
            "_view_module_version": "1.5.0",
            "_view_name": "ProgressView",
            "bar_style": "success",
            "description": "",
            "description_tooltip": null,
            "layout": "IPY_MODEL_bde51dd2d5044eadbd97250faad0a621",
            "max": 50,
            "min": 0,
            "orientation": "horizontal",
            "style": "IPY_MODEL_7a2f762958e94d7b951d889d7f319e57",
            "value": 50
          }
        },
        "8b9c5287174e400e967601fae18a98d3": {
          "model_module": "@jupyter-widgets/controls",
          "model_name": "HTMLModel",
          "model_module_version": "1.5.0",
          "state": {
            "_dom_classes": [],
            "_model_module": "@jupyter-widgets/controls",
            "_model_module_version": "1.5.0",
            "_model_name": "HTMLModel",
            "_view_count": null,
            "_view_module": "@jupyter-widgets/controls",
            "_view_module_version": "1.5.0",
            "_view_name": "HTMLView",
            "description": "",
            "description_tooltip": null,
            "layout": "IPY_MODEL_9395b1eba32840feb46d26722b4e1682",
            "placeholder": "​",
            "style": "IPY_MODEL_5c739d2818214b199254f4696fd095f0",
            "value": " 50/50 [48:59&lt;00:00, 57.65s/it]"
          }
        },
        "d6d9bd80c23541ff91f0b83db59b6638": {
          "model_module": "@jupyter-widgets/base",
          "model_name": "LayoutModel",
          "model_module_version": "1.2.0",
          "state": {
            "_model_module": "@jupyter-widgets/base",
            "_model_module_version": "1.2.0",
            "_model_name": "LayoutModel",
            "_view_count": null,
            "_view_module": "@jupyter-widgets/base",
            "_view_module_version": "1.2.0",
            "_view_name": "LayoutView",
            "align_content": null,
            "align_items": null,
            "align_self": null,
            "border": null,
            "bottom": null,
            "display": null,
            "flex": null,
            "flex_flow": null,
            "grid_area": null,
            "grid_auto_columns": null,
            "grid_auto_flow": null,
            "grid_auto_rows": null,
            "grid_column": null,
            "grid_gap": null,
            "grid_row": null,
            "grid_template_areas": null,
            "grid_template_columns": null,
            "grid_template_rows": null,
            "height": null,
            "justify_content": null,
            "justify_items": null,
            "left": null,
            "margin": null,
            "max_height": null,
            "max_width": null,
            "min_height": null,
            "min_width": null,
            "object_fit": null,
            "object_position": null,
            "order": null,
            "overflow": null,
            "overflow_x": null,
            "overflow_y": null,
            "padding": null,
            "right": null,
            "top": null,
            "visibility": null,
            "width": null
          }
        },
        "95ef3c292dee416bb2702ede59dea6ff": {
          "model_module": "@jupyter-widgets/base",
          "model_name": "LayoutModel",
          "model_module_version": "1.2.0",
          "state": {
            "_model_module": "@jupyter-widgets/base",
            "_model_module_version": "1.2.0",
            "_model_name": "LayoutModel",
            "_view_count": null,
            "_view_module": "@jupyter-widgets/base",
            "_view_module_version": "1.2.0",
            "_view_name": "LayoutView",
            "align_content": null,
            "align_items": null,
            "align_self": null,
            "border": null,
            "bottom": null,
            "display": null,
            "flex": null,
            "flex_flow": null,
            "grid_area": null,
            "grid_auto_columns": null,
            "grid_auto_flow": null,
            "grid_auto_rows": null,
            "grid_column": null,
            "grid_gap": null,
            "grid_row": null,
            "grid_template_areas": null,
            "grid_template_columns": null,
            "grid_template_rows": null,
            "height": null,
            "justify_content": null,
            "justify_items": null,
            "left": null,
            "margin": null,
            "max_height": null,
            "max_width": null,
            "min_height": null,
            "min_width": null,
            "object_fit": null,
            "object_position": null,
            "order": null,
            "overflow": null,
            "overflow_x": null,
            "overflow_y": null,
            "padding": null,
            "right": null,
            "top": null,
            "visibility": null,
            "width": null
          }
        },
        "aa002b50f0a14e51a3ae89e1d469176a": {
          "model_module": "@jupyter-widgets/controls",
          "model_name": "DescriptionStyleModel",
          "model_module_version": "1.5.0",
          "state": {
            "_model_module": "@jupyter-widgets/controls",
            "_model_module_version": "1.5.0",
            "_model_name": "DescriptionStyleModel",
            "_view_count": null,
            "_view_module": "@jupyter-widgets/base",
            "_view_module_version": "1.2.0",
            "_view_name": "StyleView",
            "description_width": ""
          }
        },
        "bde51dd2d5044eadbd97250faad0a621": {
          "model_module": "@jupyter-widgets/base",
          "model_name": "LayoutModel",
          "model_module_version": "1.2.0",
          "state": {
            "_model_module": "@jupyter-widgets/base",
            "_model_module_version": "1.2.0",
            "_model_name": "LayoutModel",
            "_view_count": null,
            "_view_module": "@jupyter-widgets/base",
            "_view_module_version": "1.2.0",
            "_view_name": "LayoutView",
            "align_content": null,
            "align_items": null,
            "align_self": null,
            "border": null,
            "bottom": null,
            "display": null,
            "flex": null,
            "flex_flow": null,
            "grid_area": null,
            "grid_auto_columns": null,
            "grid_auto_flow": null,
            "grid_auto_rows": null,
            "grid_column": null,
            "grid_gap": null,
            "grid_row": null,
            "grid_template_areas": null,
            "grid_template_columns": null,
            "grid_template_rows": null,
            "height": null,
            "justify_content": null,
            "justify_items": null,
            "left": null,
            "margin": null,
            "max_height": null,
            "max_width": null,
            "min_height": null,
            "min_width": null,
            "object_fit": null,
            "object_position": null,
            "order": null,
            "overflow": null,
            "overflow_x": null,
            "overflow_y": null,
            "padding": null,
            "right": null,
            "top": null,
            "visibility": null,
            "width": null
          }
        },
        "7a2f762958e94d7b951d889d7f319e57": {
          "model_module": "@jupyter-widgets/controls",
          "model_name": "ProgressStyleModel",
          "model_module_version": "1.5.0",
          "state": {
            "_model_module": "@jupyter-widgets/controls",
            "_model_module_version": "1.5.0",
            "_model_name": "ProgressStyleModel",
            "_view_count": null,
            "_view_module": "@jupyter-widgets/base",
            "_view_module_version": "1.2.0",
            "_view_name": "StyleView",
            "bar_color": null,
            "description_width": ""
          }
        },
        "9395b1eba32840feb46d26722b4e1682": {
          "model_module": "@jupyter-widgets/base",
          "model_name": "LayoutModel",
          "model_module_version": "1.2.0",
          "state": {
            "_model_module": "@jupyter-widgets/base",
            "_model_module_version": "1.2.0",
            "_model_name": "LayoutModel",
            "_view_count": null,
            "_view_module": "@jupyter-widgets/base",
            "_view_module_version": "1.2.0",
            "_view_name": "LayoutView",
            "align_content": null,
            "align_items": null,
            "align_self": null,
            "border": null,
            "bottom": null,
            "display": null,
            "flex": null,
            "flex_flow": null,
            "grid_area": null,
            "grid_auto_columns": null,
            "grid_auto_flow": null,
            "grid_auto_rows": null,
            "grid_column": null,
            "grid_gap": null,
            "grid_row": null,
            "grid_template_areas": null,
            "grid_template_columns": null,
            "grid_template_rows": null,
            "height": null,
            "justify_content": null,
            "justify_items": null,
            "left": null,
            "margin": null,
            "max_height": null,
            "max_width": null,
            "min_height": null,
            "min_width": null,
            "object_fit": null,
            "object_position": null,
            "order": null,
            "overflow": null,
            "overflow_x": null,
            "overflow_y": null,
            "padding": null,
            "right": null,
            "top": null,
            "visibility": null,
            "width": null
          }
        },
        "5c739d2818214b199254f4696fd095f0": {
          "model_module": "@jupyter-widgets/controls",
          "model_name": "DescriptionStyleModel",
          "model_module_version": "1.5.0",
          "state": {
            "_model_module": "@jupyter-widgets/controls",
            "_model_module_version": "1.5.0",
            "_model_name": "DescriptionStyleModel",
            "_view_count": null,
            "_view_module": "@jupyter-widgets/base",
            "_view_module_version": "1.2.0",
            "_view_name": "StyleView",
            "description_width": ""
          }
        },
        "348efd692e1240c39583c91cf30df359": {
          "model_module": "@jupyter-widgets/controls",
          "model_name": "HBoxModel",
          "model_module_version": "1.5.0",
          "state": {
            "_dom_classes": [],
            "_model_module": "@jupyter-widgets/controls",
            "_model_module_version": "1.5.0",
            "_model_name": "HBoxModel",
            "_view_count": null,
            "_view_module": "@jupyter-widgets/controls",
            "_view_module_version": "1.5.0",
            "_view_name": "HBoxView",
            "box_style": "",
            "children": [
              "IPY_MODEL_556741e8e05a4c9dbdf01625557ed14c",
              "IPY_MODEL_404d388e9f1945bd94c01a5318c80bc3",
              "IPY_MODEL_9b28f1f3330b4a36a4f9e521000de71d"
            ],
            "layout": "IPY_MODEL_e4574da50c1443a3b9ca2b61d5dc6a1d"
          }
        },
        "556741e8e05a4c9dbdf01625557ed14c": {
          "model_module": "@jupyter-widgets/controls",
          "model_name": "HTMLModel",
          "model_module_version": "1.5.0",
          "state": {
            "_dom_classes": [],
            "_model_module": "@jupyter-widgets/controls",
            "_model_module_version": "1.5.0",
            "_model_name": "HTMLModel",
            "_view_count": null,
            "_view_module": "@jupyter-widgets/controls",
            "_view_module_version": "1.5.0",
            "_view_name": "HTMLView",
            "description": "",
            "description_tooltip": null,
            "layout": "IPY_MODEL_d586a6c973fc491e9d9211a8f878f494",
            "placeholder": "​",
            "style": "IPY_MODEL_4de607d5a4bb4183a75f73c08d2a180c",
            "value": ""
          }
        },
        "404d388e9f1945bd94c01a5318c80bc3": {
          "model_module": "@jupyter-widgets/controls",
          "model_name": "FloatProgressModel",
          "model_module_version": "1.5.0",
          "state": {
            "_dom_classes": [],
            "_model_module": "@jupyter-widgets/controls",
            "_model_module_version": "1.5.0",
            "_model_name": "FloatProgressModel",
            "_view_count": null,
            "_view_module": "@jupyter-widgets/controls",
            "_view_module_version": "1.5.0",
            "_view_name": "ProgressView",
            "bar_style": "success",
            "description": "",
            "description_tooltip": null,
            "layout": "IPY_MODEL_1c2add92a78042e7b572da733c443b90",
            "max": 50,
            "min": 0,
            "orientation": "horizontal",
            "style": "IPY_MODEL_bd2a8d7053384456b8c9e2c508381585",
            "value": 50
          }
        },
        "9b28f1f3330b4a36a4f9e521000de71d": {
          "model_module": "@jupyter-widgets/controls",
          "model_name": "HTMLModel",
          "model_module_version": "1.5.0",
          "state": {
            "_dom_classes": [],
            "_model_module": "@jupyter-widgets/controls",
            "_model_module_version": "1.5.0",
            "_model_name": "HTMLModel",
            "_view_count": null,
            "_view_module": "@jupyter-widgets/controls",
            "_view_module_version": "1.5.0",
            "_view_name": "HTMLView",
            "description": "",
            "description_tooltip": null,
            "layout": "IPY_MODEL_6b433a54525e45d3a5923a40fa6c119e",
            "placeholder": "​",
            "style": "IPY_MODEL_a179c2193d2a46609b01ee04dc4a294d",
            "value": " 51/? [10:24&lt;00:00,  7.93s/it]"
          }
        },
        "e4574da50c1443a3b9ca2b61d5dc6a1d": {
          "model_module": "@jupyter-widgets/base",
          "model_name": "LayoutModel",
          "model_module_version": "1.2.0",
          "state": {
            "_model_module": "@jupyter-widgets/base",
            "_model_module_version": "1.2.0",
            "_model_name": "LayoutModel",
            "_view_count": null,
            "_view_module": "@jupyter-widgets/base",
            "_view_module_version": "1.2.0",
            "_view_name": "LayoutView",
            "align_content": null,
            "align_items": null,
            "align_self": null,
            "border": null,
            "bottom": null,
            "display": null,
            "flex": null,
            "flex_flow": null,
            "grid_area": null,
            "grid_auto_columns": null,
            "grid_auto_flow": null,
            "grid_auto_rows": null,
            "grid_column": null,
            "grid_gap": null,
            "grid_row": null,
            "grid_template_areas": null,
            "grid_template_columns": null,
            "grid_template_rows": null,
            "height": null,
            "justify_content": null,
            "justify_items": null,
            "left": null,
            "margin": null,
            "max_height": null,
            "max_width": null,
            "min_height": null,
            "min_width": null,
            "object_fit": null,
            "object_position": null,
            "order": null,
            "overflow": null,
            "overflow_x": null,
            "overflow_y": null,
            "padding": null,
            "right": null,
            "top": null,
            "visibility": null,
            "width": null
          }
        },
        "d586a6c973fc491e9d9211a8f878f494": {
          "model_module": "@jupyter-widgets/base",
          "model_name": "LayoutModel",
          "model_module_version": "1.2.0",
          "state": {
            "_model_module": "@jupyter-widgets/base",
            "_model_module_version": "1.2.0",
            "_model_name": "LayoutModel",
            "_view_count": null,
            "_view_module": "@jupyter-widgets/base",
            "_view_module_version": "1.2.0",
            "_view_name": "LayoutView",
            "align_content": null,
            "align_items": null,
            "align_self": null,
            "border": null,
            "bottom": null,
            "display": null,
            "flex": null,
            "flex_flow": null,
            "grid_area": null,
            "grid_auto_columns": null,
            "grid_auto_flow": null,
            "grid_auto_rows": null,
            "grid_column": null,
            "grid_gap": null,
            "grid_row": null,
            "grid_template_areas": null,
            "grid_template_columns": null,
            "grid_template_rows": null,
            "height": null,
            "justify_content": null,
            "justify_items": null,
            "left": null,
            "margin": null,
            "max_height": null,
            "max_width": null,
            "min_height": null,
            "min_width": null,
            "object_fit": null,
            "object_position": null,
            "order": null,
            "overflow": null,
            "overflow_x": null,
            "overflow_y": null,
            "padding": null,
            "right": null,
            "top": null,
            "visibility": null,
            "width": null
          }
        },
        "4de607d5a4bb4183a75f73c08d2a180c": {
          "model_module": "@jupyter-widgets/controls",
          "model_name": "DescriptionStyleModel",
          "model_module_version": "1.5.0",
          "state": {
            "_model_module": "@jupyter-widgets/controls",
            "_model_module_version": "1.5.0",
            "_model_name": "DescriptionStyleModel",
            "_view_count": null,
            "_view_module": "@jupyter-widgets/base",
            "_view_module_version": "1.2.0",
            "_view_name": "StyleView",
            "description_width": ""
          }
        },
        "1c2add92a78042e7b572da733c443b90": {
          "model_module": "@jupyter-widgets/base",
          "model_name": "LayoutModel",
          "model_module_version": "1.2.0",
          "state": {
            "_model_module": "@jupyter-widgets/base",
            "_model_module_version": "1.2.0",
            "_model_name": "LayoutModel",
            "_view_count": null,
            "_view_module": "@jupyter-widgets/base",
            "_view_module_version": "1.2.0",
            "_view_name": "LayoutView",
            "align_content": null,
            "align_items": null,
            "align_self": null,
            "border": null,
            "bottom": null,
            "display": null,
            "flex": null,
            "flex_flow": null,
            "grid_area": null,
            "grid_auto_columns": null,
            "grid_auto_flow": null,
            "grid_auto_rows": null,
            "grid_column": null,
            "grid_gap": null,
            "grid_row": null,
            "grid_template_areas": null,
            "grid_template_columns": null,
            "grid_template_rows": null,
            "height": null,
            "justify_content": null,
            "justify_items": null,
            "left": null,
            "margin": null,
            "max_height": null,
            "max_width": null,
            "min_height": null,
            "min_width": null,
            "object_fit": null,
            "object_position": null,
            "order": null,
            "overflow": null,
            "overflow_x": null,
            "overflow_y": null,
            "padding": null,
            "right": null,
            "top": null,
            "visibility": null,
            "width": null
          }
        },
        "bd2a8d7053384456b8c9e2c508381585": {
          "model_module": "@jupyter-widgets/controls",
          "model_name": "ProgressStyleModel",
          "model_module_version": "1.5.0",
          "state": {
            "_model_module": "@jupyter-widgets/controls",
            "_model_module_version": "1.5.0",
            "_model_name": "ProgressStyleModel",
            "_view_count": null,
            "_view_module": "@jupyter-widgets/base",
            "_view_module_version": "1.2.0",
            "_view_name": "StyleView",
            "bar_color": null,
            "description_width": ""
          }
        },
        "6b433a54525e45d3a5923a40fa6c119e": {
          "model_module": "@jupyter-widgets/base",
          "model_name": "LayoutModel",
          "model_module_version": "1.2.0",
          "state": {
            "_model_module": "@jupyter-widgets/base",
            "_model_module_version": "1.2.0",
            "_model_name": "LayoutModel",
            "_view_count": null,
            "_view_module": "@jupyter-widgets/base",
            "_view_module_version": "1.2.0",
            "_view_name": "LayoutView",
            "align_content": null,
            "align_items": null,
            "align_self": null,
            "border": null,
            "bottom": null,
            "display": null,
            "flex": null,
            "flex_flow": null,
            "grid_area": null,
            "grid_auto_columns": null,
            "grid_auto_flow": null,
            "grid_auto_rows": null,
            "grid_column": null,
            "grid_gap": null,
            "grid_row": null,
            "grid_template_areas": null,
            "grid_template_columns": null,
            "grid_template_rows": null,
            "height": null,
            "justify_content": null,
            "justify_items": null,
            "left": null,
            "margin": null,
            "max_height": null,
            "max_width": null,
            "min_height": null,
            "min_width": null,
            "object_fit": null,
            "object_position": null,
            "order": null,
            "overflow": null,
            "overflow_x": null,
            "overflow_y": null,
            "padding": null,
            "right": null,
            "top": null,
            "visibility": null,
            "width": null
          }
        },
        "a179c2193d2a46609b01ee04dc4a294d": {
          "model_module": "@jupyter-widgets/controls",
          "model_name": "DescriptionStyleModel",
          "model_module_version": "1.5.0",
          "state": {
            "_model_module": "@jupyter-widgets/controls",
            "_model_module_version": "1.5.0",
            "_model_name": "DescriptionStyleModel",
            "_view_count": null,
            "_view_module": "@jupyter-widgets/base",
            "_view_module_version": "1.2.0",
            "_view_name": "StyleView",
            "description_width": ""
          }
        }
      }
    }
  },
  "nbformat": 4,
  "nbformat_minor": 0
}