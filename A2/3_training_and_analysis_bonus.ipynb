{
  "cells": [
    {
      "cell_type": "markdown",
      "metadata": {
        "id": "view-in-github",
        "colab_type": "text"
      },
      "source": [
        "<a href=\"https://colab.research.google.com/github/ML-HW-SYS/a2-WDaugherty/blob/main/3_training_and_analysis_bonus.ipynb\" target=\"_parent\"><img src=\"https://colab.research.google.com/assets/colab-badge.svg\" alt=\"Open In Colab\"/></a>"
      ]
    },
    {
      "cell_type": "markdown",
      "metadata": {
        "id": "z2nGDz0JliKU"
      },
      "source": [
        "# **3. Training and Testing**\n",
        "Please start early! Section 3.6 Training may take one to two hours to run. "
      ]
    },
    {
      "cell_type": "markdown",
      "metadata": {
        "id": "c5U9gkiTnC4s"
      },
      "source": [
        "## 3.0 Setup GDrive and Git"
      ]
    },
    {
      "cell_type": "code",
      "source": [
        "# Mount google drive\n",
        "from google.colab import drive\n",
        "drive.mount('/content/gdrive') "
      ],
      "metadata": {
        "id": "WwcJax1zU04M",
        "colab": {
          "base_uri": "https://localhost:8080/"
        },
        "outputId": "f28b0478-30ca-48af-9cc7-51fd66557721"
      },
      "execution_count": 1,
      "outputs": [
        {
          "output_type": "stream",
          "name": "stdout",
          "text": [
            "Mounted at /content/gdrive\n"
          ]
        }
      ]
    },
    {
      "cell_type": "code",
      "source": [
        "# Make sure your token is stored in a txt file at the location below.\n",
        "# This way there is no risk that you will push it to your repo\n",
        "# Never share your token with anyone, it is basically your github password!\n",
        "with open('/content/gdrive/MyDrive/ece5545/token.txt') as f:\n",
        "    token = f.readline().strip()\n",
        "# Use another file to store your github username    \n",
        "with open('/content/gdrive/MyDrive/ece5545/git_username.txt') as f:\n",
        "    handle = f.readline().strip()"
      ],
      "metadata": {
        "id": "NQklidVMU0-t"
      },
      "execution_count": 2,
      "outputs": []
    },
    {
      "cell_type": "code",
      "source": [
        "# Clone your github repo\n",
        "YOUR_TOKEN = token\n",
        "YOUR_HANDLE = handle\n",
        "BRANCH = \"main\"\n",
        "\n",
        "%mkdir /content/gdrive/MyDrive/ece5545\n",
        "%cd /content/gdrive/MyDrive/ece5545\n",
        "!git clone https://{YOUR_TOKEN}@github.com/ML-HW-SYS/a2-{YOUR_HANDLE}.git\n",
        "%cd /content/gdrive/MyDrive/ece5545/a2-{YOUR_HANDLE}\n",
        "!git checkout {BRANCH}\n",
        "!git pull\n",
        "%cd /content/gdrive/MyDrive/ece5545\n",
        "\n",
        "PROJECT_ROOT = f\"/content/gdrive/MyDrive/ece5545/a2-{YOUR_HANDLE}\""
      ],
      "metadata": {
        "id": "7bdUCGFEU1Es",
        "colab": {
          "base_uri": "https://localhost:8080/"
        },
        "outputId": "d6df933a-9433-4ed0-8195-2ba573782d57"
      },
      "execution_count": 4,
      "outputs": [
        {
          "output_type": "stream",
          "name": "stdout",
          "text": [
            "mkdir: cannot create directory ‘/content/gdrive/MyDrive/ece5545’: File exists\n",
            "/content/gdrive/MyDrive/ece5545\n",
            "fatal: destination path 'a2-WDaugherty' already exists and is not an empty directory.\n",
            "/content/gdrive/MyDrive/ece5545/a2-WDaugherty\n",
            "Already on 'main'\n",
            "Your branch is up to date with 'origin/main'.\n",
            "remote: Enumerating objects: 7, done.\u001b[K\n",
            "remote: Counting objects: 100% (7/7), done.\u001b[K\n",
            "remote: Compressing objects: 100% (1/1), done.\u001b[K\n",
            "remote: Total 4 (delta 3), reused 4 (delta 3), pack-reused 0\u001b[K\n",
            "Unpacking objects: 100% (4/4), 343 bytes | 4.00 KiB/s, done.\n",
            "From https://github.com/ML-HW-SYS/a2-WDaugherty\n",
            "   38a3bc2..d7907bd  main       -> origin/main\n",
            "Updating 38a3bc2..d7907bd\n",
            "Fast-forward\n",
            " src/bonus_constants.py | 2 \u001b[32m+\u001b[m\u001b[31m-\u001b[m\n",
            " 1 file changed, 1 insertion(+), 1 deletion(-)\n",
            "/content/gdrive/MyDrive/ece5545\n"
          ]
        }
      ]
    },
    {
      "cell_type": "code",
      "source": [
        "# This extension reloads all imports before running each cell\n",
        "%load_ext autoreload\n",
        "%autoreload 2"
      ],
      "metadata": {
        "id": "xHXYdHkzU1MX"
      },
      "execution_count": 5,
      "outputs": []
    },
    {
      "cell_type": "markdown",
      "metadata": {
        "id": "t6zMfxIflRLB"
      },
      "source": [
        "### GPU\n",
        "\n",
        "Ensure you are running the GPU runtime type:\n",
        "1.   Click \"Runtime\" on top banner\n",
        "2.   Select \"Change runtime type\"\n",
        "3.   Under \"Hardware accelarator\" select \"GPU\" and save\n",
        "\n"
      ]
    },
    {
      "cell_type": "markdown",
      "metadata": {
        "id": "be4rOan-nHrF"
      },
      "source": [
        "### Import code dependencies"
      ]
    },
    {
      "cell_type": "code",
      "execution_count": 6,
      "metadata": {
        "id": "aDDr3IrkliKY",
        "colab": {
          "base_uri": "https://localhost:8080/"
        },
        "outputId": "3d8b9a9b-577b-48c2-f34c-6e671919385c"
      },
      "outputs": [
        {
          "output_type": "stream",
          "name": "stdout",
          "text": [
            "Model folders are created, \n",
            "PyTorch models will be saved in /content/gdrive/MyDrive/ece5545/models/torch_models, \n",
            "ONNX models will be saved in /content/gdrive/MyDrive/ece5545/models/onnx_models, \n",
            "TensorFlow Saved Models will be saved in /content/gdrive/MyDrive/ece5545/models/tf_models, \n",
            "TensorFlow Lite models will be saved in /content/gdrive/MyDrive/ece5545/models/tflite_models, \n",
            "TensorFlow Lite Micro models will be saved in /content/gdrive/MyDrive/ece5545/models/micro_models.\n",
            "Model folders are created, \n",
            "PyTorch models will be saved in /content/gdrive/MyDrive/ece5545/models/torch_models, \n",
            "ONNX models will be saved in /content/gdrive/MyDrive/ece5545/models/onnx_models, \n",
            "TensorFlow Saved Models will be saved in /content/gdrive/MyDrive/ece5545/models/tf_models, \n",
            "TensorFlow Lite models will be saved in /content/gdrive/MyDrive/ece5545/models/tflite_models, \n",
            "TensorFlow Lite Micro models will be saved in /content/gdrive/MyDrive/ece5545/models/micro_models.\n"
          ]
        }
      ],
      "source": [
        "import os\n",
        "import sys\n",
        "\n",
        "# Adding assignment 2 to the system path\n",
        "# -- make sure this matches your git directory\n",
        "sys.path.insert(0, PROJECT_ROOT)\n",
        "\n",
        "# Import libraries \n",
        "import torch\n",
        "import torch.nn as nn\n",
        "import torch.nn.functional as F\n",
        "import torch.optim as optim\n",
        "\n",
        "import matplotlib.pyplot as plt\n",
        "from tqdm.notebook import tqdm\n",
        "import numpy as np\n",
        "import copy\n",
        "\n",
        "# Import constants to use constants defined for training\n",
        "from src.bonus_constants import *\n",
        "# Import data_proc to use data processing functions\n",
        "import src.data_proc as data_proc\n",
        "\n",
        "random_seed = 0\n",
        "torch.manual_seed(random_seed)\n",
        "torch.cuda.manual_seed(random_seed)"
      ]
    },
    {
      "cell_type": "markdown",
      "metadata": {
        "id": "U7qaF1IEliKa"
      },
      "source": [
        "## 3.1 Download and Preprocess Data"
      ]
    },
    {
      "cell_type": "markdown",
      "metadata": {
        "id": "FLwsdGt_liKa"
      },
      "source": [
        "### Create audio processor\n",
        "This step is similar to what was done in part 2, so the files should already be downloaded in your Google Drive."
      ]
    },
    {
      "cell_type": "code",
      "execution_count": 7,
      "metadata": {
        "id": "Xdc42fZiliKa"
      },
      "outputs": [],
      "source": [
        "# Create audio_processor\n",
        "audio_processor = data_proc.AudioProcessor()"
      ]
    },
    {
      "cell_type": "markdown",
      "metadata": {
        "id": "e53768H0liKf"
      },
      "source": [
        "### Select device: cuda or cpu"
      ]
    },
    {
      "cell_type": "code",
      "execution_count": 8,
      "metadata": {
        "id": "UrpzLHRhliKf",
        "colab": {
          "base_uri": "https://localhost:8080/"
        },
        "outputId": "043b4628-9de2-472f-e393-7068759520e7"
      },
      "outputs": [
        {
          "output_type": "stream",
          "name": "stdout",
          "text": [
            "Using cpu to run the training scrpit.\n"
          ]
        }
      ],
      "source": [
        "# Define device\n",
        "device = torch.device(\"cuda\" if torch.cuda.is_available() else \"cpu\")\n",
        "print(f'Using {device} to run the training scrpit.')"
      ]
    },
    {
      "cell_type": "markdown",
      "metadata": {
        "id": "ViruC2uOnY3u"
      },
      "source": [
        "## 3.2 Data Loader"
      ]
    },
    {
      "cell_type": "code",
      "execution_count": 9,
      "metadata": {
        "id": "3qYQMncTliKb",
        "colab": {
          "base_uri": "https://localhost:8080/"
        },
        "outputId": "7873be8f-a0d5-4e65-c11a-b8de22c90f25"
      },
      "outputs": [
        {
          "output_type": "stream",
          "name": "stdout",
          "text": [
            "Train size: 10556 Val size: 1333 Test size: 1368\n"
          ]
        }
      ],
      "source": [
        "# Define train, test, and validation set\n",
        "train_set = audio_processor.data_index['training']\n",
        "test_set = audio_processor.data_index['testing']\n",
        "valid_set = audio_processor.data_index['validation']\n",
        "\n",
        "# Define data loaders\n",
        "from src.loaders import make_data_loaders\n",
        "data_loaders = make_data_loaders(audio_processor, device)\n",
        "train_loader = data_loaders['training']\n",
        "test_loader = data_loaders['testing']\n",
        "valid_loader = data_loaders['validation']"
      ]
    },
    {
      "cell_type": "markdown",
      "metadata": {
        "id": "cBSyrbs6liKg"
      },
      "source": [
        "## 3.3 Define the Model"
      ]
    },
    {
      "cell_type": "code",
      "execution_count": 10,
      "metadata": {
        "id": "OERV-lIDliKi",
        "colab": {
          "base_uri": "https://localhost:8080/"
        },
        "outputId": "dd3ec24a-b336-4c55-f361-3053df7fd9bf"
      },
      "outputs": [
        {
          "output_type": "execute_result",
          "data": {
            "text/plain": [
              "TinyConv(\n",
              "  (conv_reshape): Reshape(output_shape=(-1, 1, 49, 40))\n",
              "  (conv): Conv2d(1, 8, kernel_size=(10, 8), stride=(2, 2), padding=(5, 3))\n",
              "  (relu): ReLU()\n",
              "  (dropout): Dropout(p=0.5, inplace=False)\n",
              "  (fc_reshape): Reshape(output_shape=(-1, 4000))\n",
              "  (fc): Linear(in_features=4000, out_features=4, bias=True)\n",
              "  (softmax): Softmax(dim=1)\n",
              ")"
            ]
          },
          "metadata": {},
          "execution_count": 10
        }
      ],
      "source": [
        "from src.networks import TinyConv\n",
        "# Create a full precision (float32) TinyConv model\n",
        "model_fp32 = TinyConv(\n",
        "    model_settings=audio_processor.model_settings,\n",
        "    n_input=1,\n",
        "    n_output=audio_processor.num_labels\n",
        ")\n",
        "model_fp32"
      ]
    },
    {
      "cell_type": "markdown",
      "metadata": {
        "id": "0PeiCwmdliKk"
      },
      "source": [
        "## 3.4 Training"
      ]
    },
    {
      "cell_type": "code",
      "execution_count": 11,
      "metadata": {
        "id": "pTDNIHCqliKj"
      },
      "outputs": [],
      "source": [
        "from src.train_val_test_utils import train, test"
      ]
    },
    {
      "cell_type": "markdown",
      "metadata": {
        "id": "Fnk6TOA8rv7C"
      },
      "source": [
        "### Adjust parameters\n",
        "*   You can change *n_epoch* to use a different number training steps/epochs"
      ]
    },
    {
      "cell_type": "code",
      "execution_count": 12,
      "metadata": {
        "id": "4twj3n1tliKk",
        "colab": {
          "base_uri": "https://localhost:8080/"
        },
        "outputId": "64e181ea-a604-4037-9f63-5e937bf8d1e5"
      },
      "outputs": [
        {
          "output_type": "stream",
          "name": "stdout",
          "text": [
            "# batches: 106 \n",
            "# epochs: 50 \n",
            "# total training steps: 5300\n"
          ]
        }
      ],
      "source": [
        "num_batches = len(train_loader)\n",
        "n_epoch = 50\n",
        "print(f'# batches: {num_batches} \\n# epochs: {n_epoch} \\n# total training steps: {num_batches * n_epoch}')"
      ]
    },
    {
      "cell_type": "markdown",
      "metadata": {
        "id": "Ps_AJaYKliKk"
      },
      "source": [
        "### Create optimizer for training\n",
        " Explore more at: \n",
        "[TORCH. OPTIM](https://pytorch.org/docs/stable/optim.html?highlight=torch%20optim%20lr_scheduler)"
      ]
    },
    {
      "cell_type": "code",
      "execution_count": 13,
      "metadata": {
        "id": "VqVXUQzYliKk",
        "colab": {
          "base_uri": "https://localhost:8080/"
        },
        "outputId": "8ed61255-273c-4566-a9e6-4c2fb96a7ccc"
      },
      "outputs": [
        {
          "output_type": "stream",
          "name": "stdout",
          "text": [
            "{'state': {}, 'param_groups': [{'lr': 0.001, 'betas': (0.9, 0.999), 'eps': 1e-08, 'weight_decay': 0.0001, 'amsgrad': False, 'maximize': False, 'foreach': None, 'capturable': False, 'differentiable': False, 'fused': False, 'params': [0, 1, 2, 3]}]}\n"
          ]
        }
      ],
      "source": [
        "from src.train_val_test_utils import create_optimizer\n",
        "\n",
        "# Create optimizer\n",
        "optimizer_fp32 = create_optimizer(model=model_fp32, learning_rate=0.001)\n",
        "print(optimizer_fp32.state_dict())"
      ]
    },
    {
      "cell_type": "markdown",
      "metadata": {
        "id": "EX-iWv6Ash3R"
      },
      "source": [
        "### Train the model\n",
        "TensorBoard will allow you to visualize your results. The second code block, the training, will take a while to run."
      ]
    },
    {
      "cell_type": "code",
      "execution_count": 14,
      "metadata": {
        "id": "DGag-bchliKl",
        "colab": {
          "base_uri": "https://localhost:8080/",
          "height": 1000,
          "referenced_widgets": [
            "0666cabaf0a94e20b42577ce4d1b1fca",
            "ff90ed024d594a3db1b15a11a71972de",
            "a366a261e93d491faeb07328427c888a",
            "554f85da0d2843298bc7558f4000b540",
            "15a4e491032847cf9b110e0574cf3e86",
            "4f14eea7340044bface0d62f0683ac7e",
            "5809b68ef37343b0a951e2208ee6b0fd",
            "41f8a453c3e746c7b6b5236199c11b0a",
            "62702b46ee2b4ca492da3485b733e114",
            "b00ef390e4ce4e198a74b7bd227c1079",
            "6f2bad2b70664cfea7484984f83e9f38"
          ]
        },
        "outputId": "0cc13b5d-fb65-41b3-ce02-41c9642e61d2"
      },
      "outputs": [
        {
          "output_type": "display_data",
          "data": {
            "text/plain": [
              "  0%|          | 0/50 [00:00<?, ?it/s]"
            ],
            "application/vnd.jupyter.widget-view+json": {
              "version_major": 2,
              "version_minor": 0,
              "model_id": "0666cabaf0a94e20b42577ce4d1b1fca"
            }
          },
          "metadata": {}
        },
        {
          "output_type": "stream",
          "name": "stdout",
          "text": [
            "Val Acc Epoch 1 = 82.0%, Train loss = 1.106\n",
            "\n",
            "Valid epoch: 1\tAccuracy: 1101/1333 (82.60%)\n",
            "\n",
            "Val Acc Epoch 2 = 84.62%, Train loss = 0.552\n",
            "\n",
            "Valid epoch: 2\tAccuracy: 1133/1333 (85.00%)\n",
            "\n",
            "Val Acc Epoch 3 = 87.17%, Train loss = 0.483\n",
            "\n",
            "Valid epoch: 3\tAccuracy: 1169/1333 (87.70%)\n",
            "\n",
            "Val Acc Epoch 4 = 86.42%, Train loss = 0.455\n",
            "\n",
            "Valid epoch: 4\tAccuracy: 1150/1333 (86.27%)\n",
            "\n",
            "Val Acc Epoch 5 = 88.45%, Train loss = 0.445\n",
            "\n",
            "Valid epoch: 5\tAccuracy: 1166/1333 (87.47%)\n",
            "\n",
            "Val Acc Epoch 6 = 88.45%, Train loss = 0.439\n",
            "\n",
            "Valid epoch: 6\tAccuracy: 1176/1333 (88.22%)\n",
            "\n",
            "Val Acc Epoch 7 = 88.0%, Train loss = 0.422\n",
            "\n",
            "Valid epoch: 7\tAccuracy: 1183/1333 (88.75%)\n",
            "\n",
            "Val Acc Epoch 8 = 87.85%, Train loss = 0.415\n",
            "\n",
            "Valid epoch: 8\tAccuracy: 1178/1333 (88.37%)\n",
            "\n",
            "Val Acc Epoch 9 = 88.52%, Train loss = 0.391\n",
            "\n",
            "Valid epoch: 9\tAccuracy: 1182/1333 (88.67%)\n",
            "\n",
            "Val Acc Epoch 10 = 88.3%, Train loss = 0.411\n",
            "\n",
            "Valid epoch: 10\tAccuracy: 1185/1333 (88.90%)\n",
            "\n",
            "Val Acc Epoch 11 = 88.9%, Train loss = 0.41\n",
            "\n",
            "Valid epoch: 11\tAccuracy: 1179/1333 (88.45%)\n",
            "\n",
            "Val Acc Epoch 12 = 88.45%, Train loss = 0.397\n",
            "\n",
            "Valid epoch: 12\tAccuracy: 1181/1333 (88.60%)\n",
            "\n",
            "Val Acc Epoch 13 = 88.3%, Train loss = 0.392\n",
            "\n",
            "Valid epoch: 13\tAccuracy: 1161/1333 (87.10%)\n",
            "\n",
            "Val Acc Epoch 14 = 88.75%, Train loss = 0.387\n",
            "\n",
            "Valid epoch: 14\tAccuracy: 1184/1333 (88.82%)\n",
            "\n",
            "Val Acc Epoch 15 = 88.97%, Train loss = 0.38\n",
            "\n",
            "Valid epoch: 15\tAccuracy: 1193/1333 (89.50%)\n",
            "\n",
            "Val Acc Epoch 16 = 88.82%, Train loss = 0.383\n",
            "\n",
            "Valid epoch: 16\tAccuracy: 1174/1333 (88.07%)\n",
            "\n",
            "Val Acc Epoch 17 = 89.05%, Train loss = 0.374\n",
            "\n",
            "Valid epoch: 17\tAccuracy: 1191/1333 (89.35%)\n",
            "\n",
            "Val Acc Epoch 18 = 88.45%, Train loss = 0.392\n",
            "\n",
            "Valid epoch: 18\tAccuracy: 1183/1333 (88.75%)\n",
            "\n",
            "Val Acc Epoch 19 = 89.5%, Train loss = 0.377\n",
            "\n",
            "Valid epoch: 19\tAccuracy: 1193/1333 (89.50%)\n",
            "\n",
            "Val Acc Epoch 20 = 89.72%, Train loss = 0.36\n",
            "\n",
            "Valid epoch: 20\tAccuracy: 1188/1333 (89.12%)\n",
            "\n",
            "Val Acc Epoch 21 = 89.35%, Train loss = 0.364\n",
            "\n",
            "Valid epoch: 21\tAccuracy: 1189/1333 (89.20%)\n",
            "\n",
            "Val Acc Epoch 22 = 88.3%, Train loss = 0.361\n",
            "\n",
            "Valid epoch: 22\tAccuracy: 1190/1333 (89.27%)\n",
            "\n",
            "Val Acc Epoch 23 = 88.97%, Train loss = 0.358\n",
            "\n",
            "Valid epoch: 23\tAccuracy: 1196/1333 (89.72%)\n",
            "\n",
            "Val Acc Epoch 24 = 89.42%, Train loss = 0.361\n",
            "\n",
            "Valid epoch: 24\tAccuracy: 1197/1333 (89.80%)\n",
            "\n",
            "Val Acc Epoch 25 = 88.6%, Train loss = 0.368\n",
            "\n",
            "Valid epoch: 25\tAccuracy: 1177/1333 (88.30%)\n",
            "\n",
            "Val Acc Epoch 26 = 89.65%, Train loss = 0.364\n",
            "\n",
            "Valid epoch: 26\tAccuracy: 1200/1333 (90.02%)\n",
            "\n",
            "Val Acc Epoch 27 = 89.42%, Train loss = 0.362\n",
            "\n",
            "Valid epoch: 27\tAccuracy: 1187/1333 (89.05%)\n",
            "\n",
            "Val Acc Epoch 28 = 90.62%, Train loss = 0.355\n",
            "\n",
            "Valid epoch: 28\tAccuracy: 1188/1333 (89.12%)\n",
            "\n",
            "Val Acc Epoch 29 = 90.32%, Train loss = 0.362\n",
            "\n",
            "Valid epoch: 29\tAccuracy: 1191/1333 (89.35%)\n",
            "\n",
            "Val Acc Epoch 30 = 88.82%, Train loss = 0.359\n",
            "\n",
            "Valid epoch: 30\tAccuracy: 1187/1333 (89.05%)\n",
            "\n",
            "Val Acc Epoch 31 = 90.25%, Train loss = 0.36\n",
            "\n",
            "Valid epoch: 31\tAccuracy: 1182/1333 (88.67%)\n",
            "\n",
            "Val Acc Epoch 32 = 88.6%, Train loss = 0.364\n",
            "\n",
            "Valid epoch: 32\tAccuracy: 1174/1333 (88.07%)\n",
            "\n",
            "Val Acc Epoch 33 = 88.82%, Train loss = 0.35\n",
            "\n",
            "Valid epoch: 33\tAccuracy: 1190/1333 (89.27%)\n",
            "\n",
            "Val Acc Epoch 34 = 88.45%, Train loss = 0.354\n",
            "\n",
            "Valid epoch: 34\tAccuracy: 1190/1333 (89.27%)\n",
            "\n",
            "Val Acc Epoch 35 = 89.87%, Train loss = 0.354\n",
            "\n",
            "Valid epoch: 35\tAccuracy: 1191/1333 (89.35%)\n",
            "\n",
            "Val Acc Epoch 36 = 90.25%, Train loss = 0.351\n",
            "\n",
            "Valid epoch: 36\tAccuracy: 1190/1333 (89.27%)\n",
            "\n",
            "Val Acc Epoch 37 = 89.57%, Train loss = 0.358\n",
            "\n",
            "Valid epoch: 37\tAccuracy: 1197/1333 (89.80%)\n",
            "\n",
            "Val Acc Epoch 38 = 89.72%, Train loss = 0.354\n",
            "\n",
            "Valid epoch: 38\tAccuracy: 1191/1333 (89.35%)\n",
            "\n",
            "Val Acc Epoch 39 = 90.62%, Train loss = 0.344\n",
            "\n",
            "Valid epoch: 39\tAccuracy: 1199/1333 (89.95%)\n",
            "\n",
            "Val Acc Epoch 40 = 89.2%, Train loss = 0.353\n",
            "\n",
            "Valid epoch: 40\tAccuracy: 1198/1333 (89.87%)\n",
            "\n",
            "Val Acc Epoch 41 = 90.4%, Train loss = 0.346\n",
            "\n",
            "Valid epoch: 41\tAccuracy: 1208/1333 (90.62%)\n",
            "\n",
            "Val Acc Epoch 42 = 90.4%, Train loss = 0.333\n",
            "\n",
            "Valid epoch: 42\tAccuracy: 1204/1333 (90.32%)\n",
            "\n",
            "Val Acc Epoch 43 = 90.32%, Train loss = 0.338\n",
            "\n",
            "Valid epoch: 43\tAccuracy: 1210/1333 (90.77%)\n",
            "\n",
            "Val Acc Epoch 44 = 89.87%, Train loss = 0.345\n",
            "\n",
            "Valid epoch: 44\tAccuracy: 1195/1333 (89.65%)\n",
            "\n",
            "Val Acc Epoch 45 = 88.9%, Train loss = 0.352\n",
            "\n",
            "Valid epoch: 45\tAccuracy: 1199/1333 (89.95%)\n",
            "\n",
            "Val Acc Epoch 46 = 89.8%, Train loss = 0.353\n",
            "\n",
            "Valid epoch: 46\tAccuracy: 1212/1333 (90.92%)\n",
            "\n",
            "Val Acc Epoch 47 = 90.1%, Train loss = 0.351\n",
            "\n",
            "Valid epoch: 47\tAccuracy: 1206/1333 (90.47%)\n",
            "\n",
            "Val Acc Epoch 48 = 89.35%, Train loss = 0.345\n",
            "\n",
            "Valid epoch: 48\tAccuracy: 1204/1333 (90.32%)\n",
            "\n",
            "Val Acc Epoch 49 = 90.77%, Train loss = 0.341\n",
            "\n",
            "Valid epoch: 49\tAccuracy: 1209/1333 (90.70%)\n",
            "\n",
            "Val Acc Epoch 50 = 90.1%, Train loss = 0.348\n",
            "\n",
            "Valid epoch: 50\tAccuracy: 1203/1333 (90.25%)\n",
            "\n",
            "Test Acc = 88.01%\n"
          ]
        }
      ],
      "source": [
        "bar_update = 1 / (len(train_loader) + len(test_loader) + len(valid_loader))\n",
        "\n",
        "def run_training(model, data_loaders, n_epoch, optimizer,\n",
        "                 save_interval=1, resume=True, checkpoint_path=None):\n",
        "    test_loader = data_loaders['testing']\n",
        "    with tqdm(total=n_epoch) as pbar:\n",
        "      \n",
        "        completed_epoch = 1\n",
        "        if resume:\n",
        "            try:\n",
        "                #continue training with previous model if one exists\n",
        "                checkpoint = torch.load(checkpoint_path)\n",
        "                model.load_state_dict(checkpoint['model_state_dict'])\n",
        "                optimizer.load_state_dict(checkpoint['optimizer_state_dict'])\n",
        "                completed_epoch = checkpoint[\"epoch\"] + 1\n",
        "                model.eval()\n",
        "                pbar.update(completed_epoch)\n",
        "            except:\n",
        "                pass\n",
        "\n",
        "        last_valacc = 0\n",
        "        for epoch in range(completed_epoch, n_epoch + 1):\n",
        "            train_iters = len(data_loaders['training'])\n",
        "            \n",
        "            train(model, data_loaders, optimizer, \n",
        "                      epoch, device)\n",
        "            \n",
        "            valacc = test(valid_loader, model, device, epoch=epoch, \n",
        "                          loader_type='Valid', verbose=True)\n",
        "            #checkpoint the model every epoch\n",
        "            if epoch % save_interval == 0 and valacc > last_valacc:\n",
        "                last_valacc = valacc\n",
        "                torch.save({\n",
        "                    'epoch': epoch,\n",
        "                    'model_state_dict': model.state_dict(),\n",
        "                    'optimizer_state_dict': optimizer.state_dict()\n",
        "                }, checkpoint_path)\n",
        "                \n",
        "            # Update epoch pbar\n",
        "            pbar.update(1)\n",
        "        \n",
        "        testacc = test(test_loader, model, device, \n",
        "                     epoch=None, loader_type='Test')\n",
        "        print(f'Test Acc = {round(testacc,2)}%')\n",
        "\n",
        "\n",
        "# This is where your checkpoint file will be saved\n",
        "checkpoint_path = os.path.join(TORCH_DIR, \"fp32_checkpoint.pt\")\n",
        "\n",
        "model_fp32.to(device)\n",
        "run_training(\n",
        "    model=model_fp32, data_loaders=data_loaders, \n",
        "    n_epoch=n_epoch, optimizer=optimizer_fp32, \n",
        "    resume=True, checkpoint_path=checkpoint_path\n",
        ")"
      ]
    },
    {
      "cell_type": "code",
      "source": [
        "STRING = '''\n",
        "Val Acc Epoch 1 = 82.0%, Train loss = 1.106\n",
        "\n",
        "Valid epoch: 1\tAccuracy: 1101/1333 (82.60%)\n",
        "\n",
        "Val Acc Epoch 2 = 84.62%, Train loss = 0.552\n",
        "\n",
        "Valid epoch: 2\tAccuracy: 1133/1333 (85.00%)\n",
        "\n",
        "Val Acc Epoch 3 = 87.17%, Train loss = 0.483\n",
        "\n",
        "Valid epoch: 3\tAccuracy: 1169/1333 (87.70%)\n",
        "\n",
        "Val Acc Epoch 4 = 86.42%, Train loss = 0.455\n",
        "\n",
        "Valid epoch: 4\tAccuracy: 1150/1333 (86.27%)\n",
        "\n",
        "Val Acc Epoch 5 = 88.45%, Train loss = 0.445\n",
        "\n",
        "Valid epoch: 5\tAccuracy: 1166/1333 (87.47%)\n",
        "\n",
        "Val Acc Epoch 6 = 88.45%, Train loss = 0.439\n",
        "\n",
        "Valid epoch: 6\tAccuracy: 1176/1333 (88.22%)\n",
        "\n",
        "Val Acc Epoch 7 = 88.0%, Train loss = 0.422\n",
        "\n",
        "Valid epoch: 7\tAccuracy: 1183/1333 (88.75%)\n",
        "\n",
        "Val Acc Epoch 8 = 87.85%, Train loss = 0.415\n",
        "\n",
        "Valid epoch: 8\tAccuracy: 1178/1333 (88.37%)\n",
        "\n",
        "Val Acc Epoch 9 = 88.52%, Train loss = 0.391\n",
        "\n",
        "Valid epoch: 9\tAccuracy: 1182/1333 (88.67%)\n",
        "\n",
        "Val Acc Epoch 10 = 88.3%, Train loss = 0.411\n",
        "\n",
        "Valid epoch: 10\tAccuracy: 1185/1333 (88.90%)\n",
        "\n",
        "Val Acc Epoch 11 = 88.9%, Train loss = 0.41\n",
        "\n",
        "Valid epoch: 11\tAccuracy: 1179/1333 (88.45%)\n",
        "\n",
        "Val Acc Epoch 12 = 88.45%, Train loss = 0.397\n",
        "\n",
        "Valid epoch: 12\tAccuracy: 1181/1333 (88.60%)\n",
        "\n",
        "Val Acc Epoch 13 = 88.3%, Train loss = 0.392\n",
        "\n",
        "Valid epoch: 13\tAccuracy: 1161/1333 (87.10%)\n",
        "\n",
        "Val Acc Epoch 14 = 88.75%, Train loss = 0.387\n",
        "\n",
        "Valid epoch: 14\tAccuracy: 1184/1333 (88.82%)\n",
        "\n",
        "Val Acc Epoch 15 = 88.97%, Train loss = 0.38\n",
        "\n",
        "Valid epoch: 15\tAccuracy: 1193/1333 (89.50%)\n",
        "\n",
        "Val Acc Epoch 16 = 88.82%, Train loss = 0.383\n",
        "\n",
        "Valid epoch: 16\tAccuracy: 1174/1333 (88.07%)\n",
        "\n",
        "Val Acc Epoch 17 = 89.05%, Train loss = 0.374\n",
        "\n",
        "Valid epoch: 17\tAccuracy: 1191/1333 (89.35%)\n",
        "\n",
        "Val Acc Epoch 18 = 88.45%, Train loss = 0.392\n",
        "\n",
        "Valid epoch: 18\tAccuracy: 1183/1333 (88.75%)\n",
        "\n",
        "Val Acc Epoch 19 = 89.5%, Train loss = 0.377\n",
        "\n",
        "Valid epoch: 19\tAccuracy: 1193/1333 (89.50%)\n",
        "\n",
        "Val Acc Epoch 20 = 89.72%, Train loss = 0.36\n",
        "\n",
        "Valid epoch: 20\tAccuracy: 1188/1333 (89.12%)\n",
        "\n",
        "Val Acc Epoch 21 = 89.35%, Train loss = 0.364\n",
        "\n",
        "Valid epoch: 21\tAccuracy: 1189/1333 (89.20%)\n",
        "\n",
        "Val Acc Epoch 22 = 88.3%, Train loss = 0.361\n",
        "\n",
        "Valid epoch: 22\tAccuracy: 1190/1333 (89.27%)\n",
        "\n",
        "Val Acc Epoch 23 = 88.97%, Train loss = 0.358\n",
        "\n",
        "Valid epoch: 23\tAccuracy: 1196/1333 (89.72%)\n",
        "\n",
        "Val Acc Epoch 24 = 89.42%, Train loss = 0.361\n",
        "\n",
        "Valid epoch: 24\tAccuracy: 1197/1333 (89.80%)\n",
        "\n",
        "Val Acc Epoch 25 = 88.6%, Train loss = 0.368\n",
        "\n",
        "Valid epoch: 25\tAccuracy: 1177/1333 (88.30%)\n",
        "\n",
        "Val Acc Epoch 26 = 89.65%, Train loss = 0.364\n",
        "\n",
        "Valid epoch: 26\tAccuracy: 1200/1333 (90.02%)\n",
        "\n",
        "Val Acc Epoch 27 = 89.42%, Train loss = 0.362\n",
        "\n",
        "Valid epoch: 27\tAccuracy: 1187/1333 (89.05%)\n",
        "\n",
        "Val Acc Epoch 28 = 90.62%, Train loss = 0.355\n",
        "\n",
        "Valid epoch: 28\tAccuracy: 1188/1333 (89.12%)\n",
        "\n",
        "Val Acc Epoch 29 = 90.32%, Train loss = 0.362\n",
        "\n",
        "Valid epoch: 29\tAccuracy: 1191/1333 (89.35%)\n",
        "\n",
        "Val Acc Epoch 30 = 88.82%, Train loss = 0.359\n",
        "\n",
        "Valid epoch: 30\tAccuracy: 1187/1333 (89.05%)\n",
        "\n",
        "Val Acc Epoch 31 = 90.25%, Train loss = 0.36\n",
        "\n",
        "Valid epoch: 31\tAccuracy: 1182/1333 (88.67%)\n",
        "\n",
        "Val Acc Epoch 32 = 88.6%, Train loss = 0.364\n",
        "\n",
        "Valid epoch: 32\tAccuracy: 1174/1333 (88.07%)\n",
        "\n",
        "Val Acc Epoch 33 = 88.82%, Train loss = 0.35\n",
        "\n",
        "Valid epoch: 33\tAccuracy: 1190/1333 (89.27%)\n",
        "\n",
        "Val Acc Epoch 34 = 88.45%, Train loss = 0.354\n",
        "\n",
        "Valid epoch: 34\tAccuracy: 1190/1333 (89.27%)\n",
        "\n",
        "Val Acc Epoch 35 = 89.87%, Train loss = 0.354\n",
        "\n",
        "Valid epoch: 35\tAccuracy: 1191/1333 (89.35%)\n",
        "\n",
        "Val Acc Epoch 36 = 90.25%, Train loss = 0.351\n",
        "\n",
        "Valid epoch: 36\tAccuracy: 1190/1333 (89.27%)\n",
        "\n",
        "Val Acc Epoch 37 = 89.57%, Train loss = 0.358\n",
        "\n",
        "Valid epoch: 37\tAccuracy: 1197/1333 (89.80%)\n",
        "\n",
        "Val Acc Epoch 38 = 89.72%, Train loss = 0.354\n",
        "\n",
        "Valid epoch: 38\tAccuracy: 1191/1333 (89.35%)\n",
        "\n",
        "Val Acc Epoch 39 = 90.62%, Train loss = 0.344\n",
        "\n",
        "Valid epoch: 39\tAccuracy: 1199/1333 (89.95%)\n",
        "\n",
        "Val Acc Epoch 40 = 89.2%, Train loss = 0.353\n",
        "\n",
        "Valid epoch: 40\tAccuracy: 1198/1333 (89.87%)\n",
        "\n",
        "Val Acc Epoch 41 = 90.4%, Train loss = 0.346\n",
        "\n",
        "Valid epoch: 41\tAccuracy: 1208/1333 (90.62%)\n",
        "\n",
        "Val Acc Epoch 42 = 90.4%, Train loss = 0.333\n",
        "\n",
        "Valid epoch: 42\tAccuracy: 1204/1333 (90.32%)\n",
        "\n",
        "Val Acc Epoch 43 = 90.32%, Train loss = 0.338\n",
        "\n",
        "Valid epoch: 43\tAccuracy: 1210/1333 (90.77%)\n",
        "\n",
        "Val Acc Epoch 44 = 89.87%, Train loss = 0.345\n",
        "\n",
        "Valid epoch: 44\tAccuracy: 1195/1333 (89.65%)\n",
        "\n",
        "Val Acc Epoch 45 = 88.9%, Train loss = 0.352\n",
        "\n",
        "Valid epoch: 45\tAccuracy: 1199/1333 (89.95%)\n",
        "\n",
        "Val Acc Epoch 46 = 89.8%, Train loss = 0.353\n",
        "\n",
        "Valid epoch: 46\tAccuracy: 1212/1333 (90.92%)\n",
        "\n",
        "Val Acc Epoch 47 = 90.1%, Train loss = 0.351\n",
        "\n",
        "Valid epoch: 47\tAccuracy: 1206/1333 (90.47%)\n",
        "\n",
        "Val Acc Epoch 48 = 89.35%, Train loss = 0.345\n",
        "\n",
        "Valid epoch: 48\tAccuracy: 1204/1333 (90.32%)\n",
        "\n",
        "Val Acc Epoch 49 = 90.77%, Train loss = 0.341\n",
        "\n",
        "Valid epoch: 49\tAccuracy: 1209/1333 (90.70%)\n",
        "\n",
        "Val Acc Epoch 50 = 90.1%, Train loss = 0.348\n",
        "\n",
        "Valid epoch: 50\tAccuracy: 1203/1333 (90.25%)\n",
        "'''"
      ],
      "metadata": {
        "id": "LeP6zioEDRir"
      },
      "execution_count": 15,
      "outputs": []
    },
    {
      "cell_type": "code",
      "source": [
        "\n",
        "import re\n",
        "import numpy as np\n",
        "import matplotlib.pyplot as plt\n",
        "\n",
        "def get_accs_and_plot(string):\n",
        "    val_accs = []\n",
        "    train_accs = []\n",
        "    for i, line in enumerate(string.split('\\n')):\n",
        "        if 'Valid epoch' in line:\n",
        "            val_acc = float(line.split('(')[-1].replace('%)','')) / 100.0\n",
        "            val_accs.append(val_acc)\n",
        "        elif 'Val Acc' in line:\n",
        "            train_acc = float(re.findall(r'\\d+\\.\\d+(?=%)', line)[0]) / 100.0\n",
        "            train_accs.append(train_acc)\n",
        "    epochs = range(1, len(val_accs) + 1)\n",
        "    plt.plot(epochs, train_accs, '-', label='Train')\n",
        "    plt.plot(epochs, val_accs, '-', label='Validation')\n",
        "    plt.xlabel('Epoch')\n",
        "    plt.ylabel('Accuracy')\n",
        "    plt.title('Training and Validation Accuracy')\n",
        "    plt.legend()\n",
        "    plt.show()\n",
        "    return val_accs, train_accs"
      ],
      "metadata": {
        "id": "X6VFnCxnDQad"
      },
      "execution_count": 16,
      "outputs": []
    },
    {
      "cell_type": "code",
      "source": [
        "\n",
        "val_accs, train_accs = get_accs_and_plot(STRING)"
      ],
      "metadata": {
        "colab": {
          "base_uri": "https://localhost:8080/",
          "height": 295
        },
        "id": "JTSXNr45DT8J",
        "outputId": "c9429ca9-0123-4cda-d587-1ff8aafe4200"
      },
      "execution_count": 17,
      "outputs": [
        {
          "output_type": "display_data",
          "data": {
            "text/plain": [
              "<Figure size 432x288 with 1 Axes>"
            ],
            "image/png": "[encoded data removed]"
          },
          "metadata": {
            "needs_background": "light"
          }
        }
      ]
    },
    {
      "cell_type": "markdown",
      "metadata": {
        "id": "Qg1WlG-rliKl"
      },
      "source": [
        "## 3.5 Testing"
      ]
    },
    {
      "cell_type": "markdown",
      "metadata": {
        "id": "oYgFvfYAliKm"
      },
      "source": [
        "### Calculating accuracy\n"
      ]
    },
    {
      "cell_type": "code",
      "execution_count": 18,
      "metadata": {
        "id": "9PtKvJH_liKm",
        "colab": {
          "base_uri": "https://localhost:8080/",
          "height": 775
        },
        "outputId": "cb616f28-7880-4f95-84e4-34e8a3a8b050"
      },
      "outputs": [
        {
          "output_type": "stream",
          "name": "stdout",
          "text": [
            "Train size: 10556 Val size: 1333 Test size: 1368\n"
          ]
        },
        {
          "output_type": "display_data",
          "data": {
            "text/plain": [
              "<Figure size 432x288 with 1 Axes>"
            ],
            "image/png": "[encoded data removed]"
          },
          "metadata": {
            "needs_background": "light"
          }
        },
        {
          "output_type": "display_data",
          "data": {
            "text/plain": [
              "<Figure size 432x288 with 1 Axes>"
            ],
            "image/png": "[encoded data removed]"
          },
          "metadata": {
            "needs_background": "light"
          }
        },
        {
          "output_type": "display_data",
          "data": {
            "text/plain": [
              "<Figure size 432x288 with 1 Axes>"
            ],
            "image/png": "[encoded data removed]"
          },
          "metadata": {
            "needs_background": "light"
          }
        }
      ],
      "source": [
        "from src.train_val_test_utils import plot_acc\n",
        "\n",
        "test_time_data_loaders = make_data_loaders(\n",
        "    audio_processor, device, \n",
        "    test_batch_size=1, valid_batch_size=1,\n",
        "    num_workers=0\n",
        ")\n",
        "\n",
        "plot_acc(\n",
        "    test_time_data_loaders['validation'], model_fp32, audio_processor, device,\n",
        "    \"validation\", 'float32 TinyConv', \"float\")\n",
        "plot_acc(\n",
        "    test_time_data_loaders['training'], model_fp32, audio_processor, device,\n",
        "    \"training\", 'float32 TinyConv', \"float\")\n",
        "acc = plot_acc(\n",
        "    test_time_data_loaders['testing'], model_fp32, audio_processor, device,\n",
        "    'testing', 'float32 TinyConv', \"float\")"
      ]
    },
    {
      "cell_type": "markdown",
      "metadata": {
        "id": "_tMzxb-jliKm"
      },
      "source": [
        "## 3.6 Save the Trained Model"
      ]
    },
    {
      "cell_type": "code",
      "execution_count": 19,
      "metadata": {
        "id": "zqC6fEoUliKm"
      },
      "outputs": [],
      "source": [
        "def choose_name(model_name):\n",
        "    name = f\"{model_name}_\" + \"{index}\"+ \"_bonus\"\n",
        "    i = 0\n",
        "    while os.path.isfile(name.format(index=i)):\n",
        "        i += 1\n",
        "    name = name.format(index = i)\n",
        "    print(f\"The model's will be stored as: \\n {name}\")\n",
        "    return name\n",
        "\n",
        "def save_model(model, path):\n",
        "    torch.save(model.state_dict(), path)"
      ]
    },
    {
      "cell_type": "code",
      "execution_count": 20,
      "metadata": {
        "id": "VVKrP45aliKm",
        "colab": {
          "base_uri": "https://localhost:8080/",
          "height": 70
        },
        "outputId": "2eef7c34-af92-475a-cd0c-c3ef4ce1d9bd"
      },
      "outputs": [
        {
          "output_type": "stream",
          "name": "stdout",
          "text": [
            "The model's will be stored as: \n",
            " tinyconv_float32_init_seed0_89.11%_0_bonus\n"
          ]
        },
        {
          "output_type": "execute_result",
          "data": {
            "text/plain": [
              "'/content/gdrive/MyDrive/ece5545/models/torch_models/tinyconv_float32_init_seed0_89.11%_0_bonus.pt'"
            ],
            "application/vnd.google.colaboratory.intrinsic+json": {
              "type": "string"
            }
          },
          "metadata": {},
          "execution_count": 20
        }
      ],
      "source": [
        "# Choose a path\n",
        "# You can also define your own path\n",
        "model_name = f\"tinyconv_float32_init_seed{torch.initial_seed()}_{acc * 100:.2f}%\"\n",
        "file_name = choose_name(model_name)\n",
        "torch_path = os.path.join(TORCH_DIR, f'{file_name}.pt')\n",
        "torch_path"
      ]
    },
    {
      "cell_type": "code",
      "execution_count": 21,
      "metadata": {
        "id": "JHgqZ8yXliKn",
        "colab": {
          "base_uri": "https://localhost:8080/",
          "height": 35
        },
        "outputId": "cab7cb5a-4574-4d1b-fbb6-c6aa3d97b8b2"
      },
      "outputs": [
        {
          "output_type": "execute_result",
          "data": {
            "text/plain": [
              "'Saved!'"
            ],
            "application/vnd.google.colaboratory.intrinsic+json": {
              "type": "string"
            }
          },
          "metadata": {},
          "execution_count": 21
        }
      ],
      "source": [
        "# Save the trained pytorch model to torch_path\n",
        "save_model(model_fp32, torch_path)\n",
        "'Saved!'"
      ]
    },
    {
      "cell_type": "code",
      "execution_count": 22,
      "metadata": {
        "id": "CnJHbwj0UAi5",
        "colab": {
          "base_uri": "https://localhost:8080/",
          "height": 35
        },
        "outputId": "2387983d-d4dd-4efc-ee7c-74ab7134c678"
      },
      "outputs": [
        {
          "output_type": "execute_result",
          "data": {
            "text/plain": [
              "'You can now find your model in /content/gdrive/MyDrive/ece5545/models/torch_models/tinyconv_float32_init_seed0_89.11%_0_bonus.pt under the folder icon to the left.'"
            ],
            "application/vnd.google.colaboratory.intrinsic+json": {
              "type": "string"
            }
          },
          "metadata": {},
          "execution_count": 22
        }
      ],
      "source": [
        "'You can now find your model in %s under the folder icon to the left.' % torch_path"
      ]
    },
    {
      "cell_type": "code",
      "source": [],
      "metadata": {
        "id": "kauQRx68xaeo"
      },
      "execution_count": null,
      "outputs": []
    }
  ],
  "metadata": {
    "colab": {
      "provenance": [],
      "include_colab_link": true
    },
    "interpreter": {
      "hash": "92bf126df007708fd70c442c808ee74575bedf7ea6317e0b182c3af0184af25d"
    },
    "kernelspec": {
      "display_name": "Python 3",
      "name": "python3"
    },
    "language_info": {
      "name": "python"
    },
    "accelerator": "GPU",
    "widgets": {
      "application/vnd.jupyter.widget-state+json": {
        "0666cabaf0a94e20b42577ce4d1b1fca": {
          "model_module": "@jupyter-widgets/controls",
          "model_name": "HBoxModel",
          "model_module_version": "1.5.0",
          "state": {
            "_dom_classes": [],
            "_model_module": "@jupyter-widgets/controls",
            "_model_module_version": "1.5.0",
            "_model_name": "HBoxModel",
            "_view_count": null,
            "_view_module": "@jupyter-widgets/controls",
            "_view_module_version": "1.5.0",
            "_view_name": "HBoxView",
            "box_style": "",
            "children": [
              "IPY_MODEL_ff90ed024d594a3db1b15a11a71972de",
              "IPY_MODEL_a366a261e93d491faeb07328427c888a",
              "IPY_MODEL_554f85da0d2843298bc7558f4000b540"
            ],
            "layout": "IPY_MODEL_15a4e491032847cf9b110e0574cf3e86"
          }
        },
        "ff90ed024d594a3db1b15a11a71972de": {
          "model_module": "@jupyter-widgets/controls",
          "model_name": "HTMLModel",
          "model_module_version": "1.5.0",
          "state": {
            "_dom_classes": [],
            "_model_module": "@jupyter-widgets/controls",
            "_model_module_version": "1.5.0",
            "_model_name": "HTMLModel",
            "_view_count": null,
            "_view_module": "@jupyter-widgets/controls",
            "_view_module_version": "1.5.0",
            "_view_name": "HTMLView",
            "description": "",
            "description_tooltip": null,
            "layout": "IPY_MODEL_4f14eea7340044bface0d62f0683ac7e",
            "placeholder": "​",
            "style": "IPY_MODEL_5809b68ef37343b0a951e2208ee6b0fd",
            "value": "100%"
          }
        },
        "a366a261e93d491faeb07328427c888a": {
          "model_module": "@jupyter-widgets/controls",
          "model_name": "FloatProgressModel",
          "model_module_version": "1.5.0",
          "state": {
            "_dom_classes": [],
            "_model_module": "@jupyter-widgets/controls",
            "_model_module_version": "1.5.0",
            "_model_name": "FloatProgressModel",
            "_view_count": null,
            "_view_module": "@jupyter-widgets/controls",
            "_view_module_version": "1.5.0",
            "_view_name": "ProgressView",
            "bar_style": "success",
            "description": "",
            "description_tooltip": null,
            "layout": "IPY_MODEL_41f8a453c3e746c7b6b5236199c11b0a",
            "max": 50,
            "min": 0,
            "orientation": "horizontal",
            "style": "IPY_MODEL_62702b46ee2b4ca492da3485b733e114",
            "value": 50
          }
        },
        "554f85da0d2843298bc7558f4000b540": {
          "model_module": "@jupyter-widgets/controls",
          "model_name": "HTMLModel",
          "model_module_version": "1.5.0",
          "state": {
            "_dom_classes": [],
            "_model_module": "@jupyter-widgets/controls",
            "_model_module_version": "1.5.0",
            "_model_name": "HTMLModel",
            "_view_count": null,
            "_view_module": "@jupyter-widgets/controls",
            "_view_module_version": "1.5.0",
            "_view_name": "HTMLView",
            "description": "",
            "description_tooltip": null,
            "layout": "IPY_MODEL_b00ef390e4ce4e198a74b7bd227c1079",
            "placeholder": "​",
            "style": "IPY_MODEL_6f2bad2b70664cfea7484984f83e9f38",
            "value": " 50/50 [1:40:59&lt;00:00, 85.65s/it]"
          }
        },
        "15a4e491032847cf9b110e0574cf3e86": {
          "model_module": "@jupyter-widgets/base",
          "model_name": "LayoutModel",
          "model_module_version": "1.2.0",
          "state": {
            "_model_module": "@jupyter-widgets/base",
            "_model_module_version": "1.2.0",
            "_model_name": "LayoutModel",
            "_view_count": null,
            "_view_module": "@jupyter-widgets/base",
            "_view_module_version": "1.2.0",
            "_view_name": "LayoutView",
            "align_content": null,
            "align_items": null,
            "align_self": null,
            "border": null,
            "bottom": null,
            "display": null,
            "flex": null,
            "flex_flow": null,
            "grid_area": null,
            "grid_auto_columns": null,
            "grid_auto_flow": null,
            "grid_auto_rows": null,
            "grid_column": null,
            "grid_gap": null,
            "grid_row": null,
            "grid_template_areas": null,
            "grid_template_columns": null,
            "grid_template_rows": null,
            "height": null,
            "justify_content": null,
            "justify_items": null,
            "left": null,
            "margin": null,
            "max_height": null,
            "max_width": null,
            "min_height": null,
            "min_width": null,
            "object_fit": null,
            "object_position": null,
            "order": null,
            "overflow": null,
            "overflow_x": null,
            "overflow_y": null,
            "padding": null,
            "right": null,
            "top": null,
            "visibility": null,
            "width": null
          }
        },
        "4f14eea7340044bface0d62f0683ac7e": {
          "model_module": "@jupyter-widgets/base",
          "model_name": "LayoutModel",
          "model_module_version": "1.2.0",
          "state": {
            "_model_module": "@jupyter-widgets/base",
            "_model_module_version": "1.2.0",
            "_model_name": "LayoutModel",
            "_view_count": null,
            "_view_module": "@jupyter-widgets/base",
            "_view_module_version": "1.2.0",
            "_view_name": "LayoutView",
            "align_content": null,
            "align_items": null,
            "align_self": null,
            "border": null,
            "bottom": null,
            "display": null,
            "flex": null,
            "flex_flow": null,
            "grid_area": null,
            "grid_auto_columns": null,
            "grid_auto_flow": null,
            "grid_auto_rows": null,
            "grid_column": null,
            "grid_gap": null,
            "grid_row": null,
            "grid_template_areas": null,
            "grid_template_columns": null,
            "grid_template_rows": null,
            "height": null,
            "justify_content": null,
            "justify_items": null,
            "left": null,
            "margin": null,
            "max_height": null,
            "max_width": null,
            "min_height": null,
            "min_width": null,
            "object_fit": null,
            "object_position": null,
            "order": null,
            "overflow": null,
            "overflow_x": null,
            "overflow_y": null,
            "padding": null,
            "right": null,
            "top": null,
            "visibility": null,
            "width": null
          }
        },
        "5809b68ef37343b0a951e2208ee6b0fd": {
          "model_module": "@jupyter-widgets/controls",
          "model_name": "DescriptionStyleModel",
          "model_module_version": "1.5.0",
          "state": {
            "_model_module": "@jupyter-widgets/controls",
            "_model_module_version": "1.5.0",
            "_model_name": "DescriptionStyleModel",
            "_view_count": null,
            "_view_module": "@jupyter-widgets/base",
            "_view_module_version": "1.2.0",
            "_view_name": "StyleView",
            "description_width": ""
          }
        },
        "41f8a453c3e746c7b6b5236199c11b0a": {
          "model_module": "@jupyter-widgets/base",
          "model_name": "LayoutModel",
          "model_module_version": "1.2.0",
          "state": {
            "_model_module": "@jupyter-widgets/base",
            "_model_module_version": "1.2.0",
            "_model_name": "LayoutModel",
            "_view_count": null,
            "_view_module": "@jupyter-widgets/base",
            "_view_module_version": "1.2.0",
            "_view_name": "LayoutView",
            "align_content": null,
            "align_items": null,
            "align_self": null,
            "border": null,
            "bottom": null,
            "display": null,
            "flex": null,
            "flex_flow": null,
            "grid_area": null,
            "grid_auto_columns": null,
            "grid_auto_flow": null,
            "grid_auto_rows": null,
            "grid_column": null,
            "grid_gap": null,
            "grid_row": null,
            "grid_template_areas": null,
            "grid_template_columns": null,
            "grid_template_rows": null,
            "height": null,
            "justify_content": null,
            "justify_items": null,
            "left": null,
            "margin": null,
            "max_height": null,
            "max_width": null,
            "min_height": null,
            "min_width": null,
            "object_fit": null,
            "object_position": null,
            "order": null,
            "overflow": null,
            "overflow_x": null,
            "overflow_y": null,
            "padding": null,
            "right": null,
            "top": null,
            "visibility": null,
            "width": null
          }
        },
        "62702b46ee2b4ca492da3485b733e114": {
          "model_module": "@jupyter-widgets/controls",
          "model_name": "ProgressStyleModel",
          "model_module_version": "1.5.0",
          "state": {
            "_model_module": "@jupyter-widgets/controls",
            "_model_module_version": "1.5.0",
            "_model_name": "ProgressStyleModel",
            "_view_count": null,
            "_view_module": "@jupyter-widgets/base",
            "_view_module_version": "1.2.0",
            "_view_name": "StyleView",
            "bar_color": null,
            "description_width": ""
          }
        },
        "b00ef390e4ce4e198a74b7bd227c1079": {
          "model_module": "@jupyter-widgets/base",
          "model_name": "LayoutModel",
          "model_module_version": "1.2.0",
          "state": {
            "_model_module": "@jupyter-widgets/base",
            "_model_module_version": "1.2.0",
            "_model_name": "LayoutModel",
            "_view_count": null,
            "_view_module": "@jupyter-widgets/base",
            "_view_module_version": "1.2.0",
            "_view_name": "LayoutView",
            "align_content": null,
            "align_items": null,
            "align_self": null,
            "border": null,
            "bottom": null,
            "display": null,
            "flex": null,
            "flex_flow": null,
            "grid_area": null,
            "grid_auto_columns": null,
            "grid_auto_flow": null,
            "grid_auto_rows": null,
            "grid_column": null,
            "grid_gap": null,
            "grid_row": null,
            "grid_template_areas": null,
            "grid_template_columns": null,
            "grid_template_rows": null,
            "height": null,
            "justify_content": null,
            "justify_items": null,
            "left": null,
            "margin": null,
            "max_height": null,
            "max_width": null,
            "min_height": null,
            "min_width": null,
            "object_fit": null,
            "object_position": null,
            "order": null,
            "overflow": null,
            "overflow_x": null,
            "overflow_y": null,
            "padding": null,
            "right": null,
            "top": null,
            "visibility": null,
            "width": null
          }
        },
        "6f2bad2b70664cfea7484984f83e9f38": {
          "model_module": "@jupyter-widgets/controls",
          "model_name": "DescriptionStyleModel",
          "model_module_version": "1.5.0",
          "state": {
            "_model_module": "@jupyter-widgets/controls",
            "_model_module_version": "1.5.0",
            "_model_name": "DescriptionStyleModel",
            "_view_count": null,
            "_view_module": "@jupyter-widgets/base",
            "_view_module_version": "1.2.0",
            "_view_name": "StyleView",
            "description_width": ""
          }
        }
      }
    }
  },
  "nbformat": 4,
  "nbformat_minor": 0
}