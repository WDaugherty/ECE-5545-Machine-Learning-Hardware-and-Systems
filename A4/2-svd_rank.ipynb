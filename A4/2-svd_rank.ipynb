{
 "cells": [
  {
   "cell_type": "markdown",
   "source": [
    "# Low-Rank Approximation\n",
    "\n",
    "In this section, you will be asked to investigated how the trade-off between\n",
    "the selected ranks of SVD and its performance in terms of reconstruction\n",
    "accuracy and speed-up (in clock-time and in FLOPS)."
   ],
   "metadata": {
    "collapsed": false
   }
  },
  {
   "cell_type": "markdown",
   "source": [
    "## 1. Set-up"
   ],
   "metadata": {
    "collapsed": false
   }
  },
  {
   "cell_type": "code",
   "execution_count": null,
   "outputs": [],
   "source": [
    "# Mount google drive\n",
    "from google.colab import drive\n",
    "drive.mount('/content/gdrive')"
   ],
   "metadata": {
    "collapsed": false,
    "pycharm": {
     "name": "#%%\n"
    }
   }
  },
  {
   "cell_type": "code",
   "execution_count": null,
   "outputs": [],
   "source": [
    "# Make sure your token is stored in a txt file at the location below.\n",
    "# This way there is no risk that you will push it to your repo\n",
    "# Never share your token with anyone, it is basically your github password!\n",
    "with open('/content/gdrive/MyDrive/ece5545/token.txt') as f:\n",
    "    token = f.readline().strip()\n",
    "# Use another file to store your github username\n",
    "with open('/content/gdrive/MyDrive/ece5545/git_username.txt') as f:\n",
    "    handle = f.readline().strip()"
   ],
   "metadata": {
    "collapsed": false,
    "pycharm": {
     "name": "#%%\n"
    }
   }
  },
  {
   "cell_type": "code",
   "execution_count": null,
   "outputs": [],
   "source": [
    "# Clone your github repo\n",
    "YOUR_TOKEN = token\n",
    "YOUR_HANDLE = handle\n",
    "BRANCH = \"main\"\n",
    "\n",
    "%mkdir /content/gdrive/MyDrive/ece5545\n",
    "%cd /content/gdrive/MyDrive/ece5545\n",
    "!git clone https://{YOUR_TOKEN}@github.com/ML-HW-SYS/a4-{YOUR_HANDLE}.git\n",
    "%cd /content/gdrive/MyDrive/ece5545/a4-{YOUR_HANDLE}\n",
    "!git checkout {BRANCH}\n",
    "!git pull\n",
    "%cd /content/gdrive/MyDrive/ece5545\n",
    "\n",
    "PROJECT_ROOT = f\"/content/gdrive/MyDrive/ece5545/a4-{YOUR_HANDLE}\""
   ],
   "metadata": {
    "collapsed": false,
    "pycharm": {
     "name": "#%%\n"
    }
   }
  },
  {
   "cell_type": "code",
   "execution_count": null,
   "outputs": [],
   "source": [
    "# This extension reloads all imports before running each cell\n",
    "%load_ext autoreload\n",
    "%autoreload 2"
   ],
   "metadata": {
    "collapsed": false,
    "pycharm": {
     "name": "#%%\n"
    }
   }
  },
  {
   "cell_type": "markdown",
   "source": [
    "Verify the following cell prints your github repository."
   ],
   "metadata": {
    "collapsed": false
   }
  },
  {
   "cell_type": "code",
   "execution_count": null,
   "outputs": [],
   "source": [
    "!ls {PROJECT_ROOT}\n"
   ],
   "metadata": {
    "collapsed": false,
    "pycharm": {
     "name": "#%%\n"
    }
   }
  },
  {
   "cell_type": "code",
   "execution_count": null,
   "outputs": [],
   "source": [
    "# Install required packgaes\n",
    "!pip install torch numpy matplotlib"
   ],
   "metadata": {
    "collapsed": false,
    "pycharm": {
     "name": "#%%\n"
    }
   }
  },
  {
   "cell_type": "markdown",
   "source": [
    "# 2. Rank v.s. Reconstruction Error\n",
    "\n",
    "In this following cell(s), please plot the number of ranks preserved for A matrix (in the x-axis)\n",
    "and the reconstruction error of the matrix (in the y-axis, measured by the Frobenius Norm).\n",
    "\n",
    "NOTE: you can use `svd(A, torch.eye(A.shape(2), rank_A=<rank>, rank_B=None)` to do SVD, drop the rank\n",
    "to `<rank>`, and return the reconstruction matrix of `A`.\n",
    "\n",
    "We will provide a series of matrix for you to study. Please make one plot per matrix.\n",
    "For each plot, comment on the trade-off between the number of ranks selected and the error by answering\n",
    "the following questions:\n",
    "1. Is the reconstruction error increasing or decreasing as we add more rank?\n",
    "2. How fast is the reconstruction error change as we add more rank? Is it changing quickly or slowly? Why?\n",
    "3. Is there a rank number below/above which the reconstruction error increase significantly?\n",
    "4. What can you learn about this data?"
   ],
   "metadata": {
    "collapsed": false
   }
  },
  {
   "cell_type": "code",
   "execution_count": null,
   "outputs": [],
   "source": [
    "from src.matmul import svd\n",
    "import torch\n",
    "import matplotlib.image\n",
    "# Pixels of a cute cat\n",
    "A = torch.from_numpy(matplotlib.image.imread(\"data/cat.png\")).view(-1, 3)"
   ],
   "metadata": {
    "collapsed": false,
    "pycharm": {
     "name": "#%%\n"
    }
   }
  },
  {
   "cell_type": "code",
   "execution_count": null,
   "outputs": [],
   "source": [
    "# A batch of MNIST digit\n",
    "import torch\n",
    "A = torch.load(\"data/mnist_act.pt\")['act.0']"
   ],
   "metadata": {
    "collapsed": false,
    "pycharm": {
     "name": "#%%\n"
    }
   }
  },
  {
   "cell_type": "code",
   "execution_count": null,
   "outputs": [],
   "source": [
    "import torch\n",
    "# A random matrix\n",
    "A = torch.randn(512, 512)"
   ],
   "metadata": {
    "collapsed": false,
    "pycharm": {
     "name": "#%%\n"
    }
   }
  },
  {
   "cell_type": "code",
   "execution_count": null,
   "outputs": [],
   "source": [
    "import torch\n",
    "# Intermediate activation of a Fully connected network (trained on MNIST)\n",
    "A = torch.load(\"data/mnist_act.pt\")['act.1']"
   ],
   "metadata": {
    "collapsed": false,
    "pycharm": {
     "name": "#%%\n"
    }
   }
  },
  {
   "cell_type": "code",
   "execution_count": null,
   "outputs": [],
   "source": [
    "import torch\n",
    "# Weight matrix of a fully connected neural network (trained on MNIST)\n",
    "A = torch.load(\"data/mnist_fc.pt\")['fc2.weight']"
   ],
   "metadata": {
    "collapsed": false,
    "pycharm": {
     "name": "#%%\n"
    }
   }
  },
  {
   "cell_type": "markdown",
   "source": [
    "# 2. Rank v.s. Speed up\n",
    "\n",
    "In this following cell(s), please plot the number of ranks preserved for A matrix (in the x-axis)\n",
    "and the speed up of matrix-matrix multiply (in the y-axis, measured by both FLOPs and clock time)\n",
    "\n",
    "You can assume both matrix A and B are using the same number of rank when approximating."
   ],
   "metadata": {
    "collapsed": false,
    "pycharm": {
     "name": "#%% md\n"
    }
   }
  },
  {
   "cell_type": "code",
   "execution_count": null,
   "outputs": [],
   "source": [
    "import torch\n",
    "# Intermediate activation of a Fully connected network (trained on MNIST)\n",
    "A = torch.load(\"data/mnist_act.pt\")['act.1']\n",
    "\n",
    "# Weight matrix of a fully connected neural network (trained on MNIST)\n",
    "B = torch.load(\"data/mnist_fc.pt\")['fc2.weight'].transpose(0, 1)\n"
   ],
   "metadata": {
    "collapsed": false,
    "pycharm": {
     "name": "#%%\n"
    }
   }
  }
 ],
 "metadata": {
  "kernelspec": {
   "display_name": "Python 3",
   "language": "python",
   "name": "python3"
  },
  "language_info": {
   "codemirror_mode": {
    "name": "ipython",
    "version": 2
   },
   "file_extension": ".py",
   "mimetype": "text/x-python",
   "name": "python",
   "nbconvert_exporter": "python",
   "pygments_lexer": "ipython2",
   "version": "2.7.6"
  }
 },
 "nbformat": 4,
 "nbformat_minor": 0
}
