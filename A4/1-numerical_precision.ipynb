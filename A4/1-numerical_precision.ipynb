{
 "cells": [
  {
   "cell_type": "markdown",
   "metadata": {},
   "source": [
    "# Numerical Precision\n",
    "\n",
    "In this section, you will investigate how different convolution\n",
    "and matrix-matrix multiplication kernel performs when changing the\n",
    "numerical precision."
   ]
  },
  {
   "cell_type": "markdown",
   "metadata": {},
   "source": [
    "## 1. Set-up"
   ]
  },
  {
   "cell_type": "code",
   "execution_count": null,
   "metadata": {
    "pycharm": {
     "name": "#%%\n"
    }
   },
   "outputs": [],
   "source": [
    "# Mount google drive\n",
    "from google.colab import drive\n",
    "drive.mount('/content/gdrive')"
   ]
  },
  {
   "cell_type": "code",
   "execution_count": null,
   "metadata": {
    "pycharm": {
     "name": "#%%\n"
    }
   },
   "outputs": [],
   "source": [
    "# Make sure your token is stored in a txt file at the location below.\n",
    "# This way there is no risk that you will push it to your repo\n",
    "# Never share your token with anyone, it is basically your github password!\n",
    "with open('/content/gdrive/MyDrive/ece5545/token.txt') as f:\n",
    "    token = f.readline().strip()\n",
    "# Use another file to store your github username\n",
    "with open('/content/gdrive/MyDrive/ece5545/git_username.txt') as f:\n",
    "    handle = f.readline().strip()"
   ]
  },
  {
   "cell_type": "code",
   "execution_count": null,
   "metadata": {
    "pycharm": {
     "name": "#%%\n"
    }
   },
   "outputs": [],
   "source": [
    "# Clone your github repo\n",
    "YOUR_TOKEN = token\n",
    "YOUR_HANDLE = handle\n",
    "BRANCH = \"main\"\n",
    "\n",
    "%mkdir /content/gdrive/MyDrive/ece5545\n",
    "%cd /content/gdrive/MyDrive/ece5545\n",
    "!git clone https://{YOUR_TOKEN}@github.com/ML-HW-SYS/a4-{YOUR_HANDLE}.git\n",
    "%cd /content/gdrive/MyDrive/ece5545/a4-{YOUR_HANDLE}\n",
    "!git checkout {BRANCH}\n",
    "!git pull\n",
    "%cd /content/gdrive/MyDrive/ece5545\n",
    "\n",
    "PROJECT_ROOT = f\"/content/gdrive/MyDrive/ece5545/a4-{YOUR_HANDLE}\""
   ]
  },
  {
   "cell_type": "code",
   "execution_count": null,
   "metadata": {
    "pycharm": {
     "name": "#%%\n"
    }
   },
   "outputs": [],
   "source": [
    "# This extension reloads all imports before running each cell\n",
    "%load_ext autoreload\n",
    "%autoreload 2"
   ]
  },
  {
   "cell_type": "markdown",
   "metadata": {},
   "source": [
    "Verify the following cell prints your github repository."
   ]
  },
  {
   "cell_type": "code",
   "execution_count": null,
   "metadata": {
    "pycharm": {
     "name": "#%%\n"
    }
   },
   "outputs": [],
   "source": [
    "!ls {PROJECT_ROOT}"
   ]
  },
  {
   "cell_type": "code",
   "execution_count": null,
   "outputs": [],
   "source": [
    "!pip install torch numpy matplotlib"
   ],
   "metadata": {
    "collapsed": false,
    "pycharm": {
     "name": "#%%\n"
    }
   }
  },
  {
   "cell_type": "markdown",
   "metadata": {},
   "source": [
    "# 2. Convolution\n",
    "\n",
    "In the following cell(s), please plot the reconstruction error of an\n",
    "approximated tensor (in the y-axis) with the numerical precision\n",
    "(in the x-axis). Please show one plot for `winograd` and one plot for `fft`."
   ]
  },
  {
   "cell_type": "code",
   "execution_count": null,
   "metadata": {
    "pycharm": {
     "name": "#%%\n"
    }
   },
   "outputs": [],
   "source": [
    "from src.conv2d import winograd\n",
    "# TODO: plot the error v.s. precision curve"
   ]
  },
  {
   "cell_type": "code",
   "execution_count": null,
   "metadata": {
    "pycharm": {
     "name": "#%%\n"
    }
   },
   "outputs": [],
   "source": [
    "from src.conv2d import fft\n",
    "# TODO: plot the error v.s. precision curve"
   ]
  },
  {
   "cell_type": "markdown",
   "metadata": {},
   "source": [
    "# 3. Matrix-matrix Multiply\n",
    "\n",
    "In the following cell(s), please plot the reconstruction error (in the y-axis)\n",
    "with the different numerical precisions (in the x-axis) for `log` (i.e.\n",
    "logorithmic matrix-matrix multiplication)."
   ]
  },
  {
   "cell_type": "code",
   "execution_count": null,
   "metadata": {
    "pycharm": {
     "name": "#%%\n"
    }
   },
   "outputs": [],
   "source": [
    "from src.matmul import logmatmul\n",
    "\n",
    "# TODO: plot the error v.s. precision curve\n",
    "\n"
   ]
  }
 ],
 "metadata": {
  "kernelspec": {
   "display_name": "Python 3 (ipykernel)",
   "language": "python",
   "name": "python3"
  },
  "language_info": {
   "codemirror_mode": {
    "name": "ipython",
    "version": 3
   },
   "file_extension": ".py",
   "mimetype": "text/x-python",
   "name": "python",
   "nbconvert_exporter": "python",
   "pygments_lexer": "ipython3",
   "version": "3.8.3"
  }
 },
 "nbformat": 4,
 "nbformat_minor": 1
}
